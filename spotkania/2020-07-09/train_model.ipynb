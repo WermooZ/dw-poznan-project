{
 "cells": [
  {
   "cell_type": "code",
   "execution_count": 164,
   "metadata": {},
   "outputs": [],
   "source": [
    "from micromlgen import port\n",
    "from sklearn.metrics import accuracy_score\n",
    "\n",
    "from sklearn.svm import SVC\n",
    "from sklearn.model_selection import train_test_split\n",
    "import pandas as pd\n",
    "import numpy as np\n",
    "\n",
    "import random\n",
    "\n",
    "# TYLKO ŻEBY OBLICZENIA BYŁY ZAWSZE TAKIE SAME\n",
    "random.seed(123)\n",
    "np.random.seed(123)\n",
    "\n",
    "np.set_printoptions(precision=7, suppress=True, threshold=5)"
   ]
  },
  {
   "cell_type": "code",
   "execution_count": 165,
   "metadata": {},
   "outputs": [
    {
     "data": {
      "text/html": [
       "<div>\n",
       "<style scoped>\n",
       "    .dataframe tbody tr th:only-of-type {\n",
       "        vertical-align: middle;\n",
       "    }\n",
       "\n",
       "    .dataframe tbody tr th {\n",
       "        vertical-align: top;\n",
       "    }\n",
       "\n",
       "    .dataframe thead th {\n",
       "        text-align: right;\n",
       "    }\n",
       "</style>\n",
       "<table border=\"1\" class=\"dataframe\">\n",
       "  <thead>\n",
       "    <tr style=\"text-align: right;\">\n",
       "      <th></th>\n",
       "      <th>Left</th>\n",
       "      <th>Middle</th>\n",
       "      <th>Right</th>\n",
       "      <th>Distance</th>\n",
       "      <th>DistanceLeft</th>\n",
       "      <th>DistanceRight</th>\n",
       "      <th>Action</th>\n",
       "    </tr>\n",
       "  </thead>\n",
       "  <tbody>\n",
       "    <tr>\n",
       "      <th>0</th>\n",
       "      <td>0</td>\n",
       "      <td>0</td>\n",
       "      <td>1</td>\n",
       "      <td>46</td>\n",
       "      <td>0</td>\n",
       "      <td>0</td>\n",
       "      <td>L</td>\n",
       "    </tr>\n",
       "    <tr>\n",
       "      <th>1</th>\n",
       "      <td>1</td>\n",
       "      <td>0</td>\n",
       "      <td>1</td>\n",
       "      <td>45</td>\n",
       "      <td>0</td>\n",
       "      <td>0</td>\n",
       "      <td>U</td>\n",
       "    </tr>\n",
       "    <tr>\n",
       "      <th>2</th>\n",
       "      <td>1</td>\n",
       "      <td>0</td>\n",
       "      <td>1</td>\n",
       "      <td>44</td>\n",
       "      <td>0</td>\n",
       "      <td>0</td>\n",
       "      <td>U</td>\n",
       "    </tr>\n",
       "    <tr>\n",
       "      <th>3</th>\n",
       "      <td>1</td>\n",
       "      <td>0</td>\n",
       "      <td>1</td>\n",
       "      <td>41</td>\n",
       "      <td>0</td>\n",
       "      <td>0</td>\n",
       "      <td>U</td>\n",
       "    </tr>\n",
       "    <tr>\n",
       "      <th>4</th>\n",
       "      <td>1</td>\n",
       "      <td>0</td>\n",
       "      <td>1</td>\n",
       "      <td>40</td>\n",
       "      <td>0</td>\n",
       "      <td>0</td>\n",
       "      <td>U</td>\n",
       "    </tr>\n",
       "    <tr>\n",
       "      <th>...</th>\n",
       "      <td>...</td>\n",
       "      <td>...</td>\n",
       "      <td>...</td>\n",
       "      <td>...</td>\n",
       "      <td>...</td>\n",
       "      <td>...</td>\n",
       "      <td>...</td>\n",
       "    </tr>\n",
       "    <tr>\n",
       "      <th>94</th>\n",
       "      <td>1</td>\n",
       "      <td>1</td>\n",
       "      <td>1</td>\n",
       "      <td>77</td>\n",
       "      <td>0</td>\n",
       "      <td>0</td>\n",
       "      <td>R</td>\n",
       "    </tr>\n",
       "    <tr>\n",
       "      <th>95</th>\n",
       "      <td>1</td>\n",
       "      <td>1</td>\n",
       "      <td>1</td>\n",
       "      <td>77</td>\n",
       "      <td>0</td>\n",
       "      <td>0</td>\n",
       "      <td>R</td>\n",
       "    </tr>\n",
       "    <tr>\n",
       "      <th>96</th>\n",
       "      <td>1</td>\n",
       "      <td>1</td>\n",
       "      <td>0</td>\n",
       "      <td>77</td>\n",
       "      <td>0</td>\n",
       "      <td>0</td>\n",
       "      <td>R</td>\n",
       "    </tr>\n",
       "    <tr>\n",
       "      <th>97</th>\n",
       "      <td>1</td>\n",
       "      <td>1</td>\n",
       "      <td>0</td>\n",
       "      <td>90</td>\n",
       "      <td>0</td>\n",
       "      <td>0</td>\n",
       "      <td>R</td>\n",
       "    </tr>\n",
       "    <tr>\n",
       "      <th>98</th>\n",
       "      <td>1</td>\n",
       "      <td>1</td>\n",
       "      <td>0</td>\n",
       "      <td>90</td>\n",
       "      <td>0</td>\n",
       "      <td>0</td>\n",
       "      <td>R</td>\n",
       "    </tr>\n",
       "  </tbody>\n",
       "</table>\n",
       "<p>99 rows × 7 columns</p>\n",
       "</div>"
      ],
      "text/plain": [
       "    Left  Middle  Right  Distance  DistanceLeft  DistanceRight Action\n",
       "0      0       0      1        46             0              0      L\n",
       "1      1       0      1        45             0              0      U\n",
       "2      1       0      1        44             0              0      U\n",
       "3      1       0      1        41             0              0      U\n",
       "4      1       0      1        40             0              0      U\n",
       "..   ...     ...    ...       ...           ...            ...    ...\n",
       "94     1       1      1        77             0              0      R\n",
       "95     1       1      1        77             0              0      R\n",
       "96     1       1      0        77             0              0      R\n",
       "97     1       1      0        90             0              0      R\n",
       "98     1       1      0        90             0              0      R\n",
       "\n",
       "[99 rows x 7 columns]"
      ]
     },
     "execution_count": 165,
     "metadata": {},
     "output_type": "execute_result"
    }
   ],
   "source": [
    "data = pd.read_csv('training.csv',sep='\\t')\n",
    "data"
   ]
  },
  {
   "cell_type": "markdown",
   "metadata": {},
   "source": [
    "# CZYTANIE DANYCH"
   ]
  },
  {
   "cell_type": "code",
   "execution_count": 166,
   "metadata": {},
   "outputs": [],
   "source": [
    "X = data[['Left','Middle','Right','Distance','DistanceLeft','DistanceRight']]\n",
    "Y = data['Action']"
   ]
  },
  {
   "cell_type": "code",
   "execution_count": 167,
   "metadata": {},
   "outputs": [],
   "source": [
    "x_train, x_test, y_train,y_test =  train_test_split(X,Y)"
   ]
  },
  {
   "cell_type": "code",
   "execution_count": 168,
   "metadata": {},
   "outputs": [
    {
     "data": {
      "text/plain": [
       "90    R\n",
       "79    U\n",
       "9     U\n",
       "56    U\n",
       "41    L\n",
       "     ..\n",
       "57    U\n",
       "83    R\n",
       "17    R\n",
       "92    R\n",
       "66    R\n",
       "Name: Action, Length: 74, dtype: object"
      ]
     },
     "execution_count": 168,
     "metadata": {},
     "output_type": "execute_result"
    }
   ],
   "source": [
    "y_train"
   ]
  },
  {
   "cell_type": "markdown",
   "metadata": {},
   "source": [
    "# UCZENIE SVM"
   ]
  },
  {
   "cell_type": "code",
   "execution_count": 169,
   "metadata": {},
   "outputs": [],
   "source": [
    "clf = SVC(kernel='linear', gamma=0.01).fit(x_train, y_train)"
   ]
  },
  {
   "cell_type": "code",
   "execution_count": 170,
   "metadata": {},
   "outputs": [
    {
     "data": {
      "text/plain": [
       "0.76"
      ]
     },
     "execution_count": 170,
     "metadata": {},
     "output_type": "execute_result"
    }
   ],
   "source": [
    "accuracy_score(y_test,clf.predict(x_test))"
   ]
  },
  {
   "cell_type": "code",
   "execution_count": 171,
   "metadata": {},
   "outputs": [
    {
     "data": {
      "text/plain": [
       "array(['R', 'R', 'R', ..., 'U', 'R', 'R'], dtype=object)"
      ]
     },
     "execution_count": 171,
     "metadata": {},
     "output_type": "execute_result"
    }
   ],
   "source": [
    "clf.predict(x_test)"
   ]
  },
  {
   "cell_type": "code",
   "execution_count": 172,
   "metadata": {},
   "outputs": [
    {
     "name": "stdout",
     "output_type": "stream",
     "text": [
      "#pragma once\n",
      "namespace Eloquent {\n",
      "    namespace ML {\n",
      "        namespace Port {\n",
      "            class SVM {\n",
      "                public:\n",
      "                    SVM() {\n",
      "                    }\n",
      "\n",
      "                    /**\n",
      "                    * Predict class for features vector\n",
      "                    */\n",
      "                    int predict(float *x) {\n",
      "                        float kernels[41] = { 0 };\n",
      "                        float decisions[10] = { 0 };\n",
      "                        int votes[5] = { 0 };\n",
      "                        kernels[0] = compute_kernel(x,   1.0  , 1.0  , 1.0  , 12.0  , 0.0  , 0.0 );\n",
      "                        kernels[1] = compute_kernel(x,   1.0  , 1.0  , 1.0  , 68.0  , 0.0  , 0.0 );\n",
      "                        kernels[2] = compute_kernel(x,   1.0  , 1.0  , 1.0  , 84.0  , 0.0  , 0.0 );\n",
      "                        kernels[3] = compute_kernel(x,   1.0  , 1.0  , 1.0  , 76.0  , 0.0  , 0.0 );\n",
      "                        kernels[4] = compute_kernel(x,   1.0  , 1.0  , 0.0  , 80.0  , 0.0  , 0.0 );\n",
      "                        kernels[5] = compute_kernel(x,   0.0  , 0.0  , 0.0  , 91.0  , 0.0  , 0.0 );\n",
      "                        kernels[6] = compute_kernel(x,   0.0  , 0.0  , 1.0  , 19.0  , 0.0  , 0.0 );\n",
      "                        kernels[7] = compute_kernel(x,   0.0  , 0.0  , 1.0  , 22.0  , 0.0  , 0.0 );\n",
      "                        kernels[8] = compute_kernel(x,   1.0  , 1.0  , 1.0  , 86.0  , 0.0  , 0.0 );\n",
      "                        kernels[9] = compute_kernel(x,   1.0  , 1.0  , 1.0  , 78.0  , 0.0  , 0.0 );\n",
      "                        kernels[10] = compute_kernel(x,   1.0  , 1.0  , 1.0  , 77.0  , 0.0  , 0.0 );\n",
      "                        kernels[11] = compute_kernel(x,   0.0  , 1.0  , 0.0  , 86.0  , 0.0  , 0.0 );\n",
      "                        kernels[12] = compute_kernel(x,   1.0  , 1.0  , 0.0  , 77.0  , 0.0  , 0.0 );\n",
      "                        kernels[13] = compute_kernel(x,   1.0  , 1.0  , 1.0  , 78.0  , 0.0  , 0.0 );\n",
      "                        kernels[14] = compute_kernel(x,   1.0  , 1.0  , 1.0  , 77.0  , 0.0  , 0.0 );\n",
      "                        kernels[15] = compute_kernel(x,   1.0  , 1.0  , 1.0  , 12.0  , 0.0  , 0.0 );\n",
      "                        kernels[16] = compute_kernel(x,   0.0  , 1.0  , 0.0  , 86.0  , 0.0  , 0.0 );\n",
      "                        kernels[17] = compute_kernel(x,   1.0  , 0.0  , 0.0  , 91.0  , 0.0  , 0.0 );\n",
      "                        kernels[18] = compute_kernel(x,   1.0  , 1.0  , 0.0  , 84.0  , 0.0  , 0.0 );\n",
      "                        kernels[19] = compute_kernel(x,   0.0  , 0.0  , 0.0  , 86.0  , 0.0  , 0.0 );\n",
      "                        kernels[20] = compute_kernel(x,   1.0  , 0.0  , 0.0  , 92.0  , 0.0  , 0.0 );\n",
      "                        kernels[21] = compute_kernel(x,   1.0  , 1.0  , 1.0  , 77.0  , 0.0  , 0.0 );\n",
      "                        kernels[22] = compute_kernel(x,   1.0  , 1.0  , 1.0  , 84.0  , 0.0  , 0.0 );\n",
      "                        kernels[23] = compute_kernel(x,   1.0  , 1.0  , 1.0  , 69.0  , 0.0  , 0.0 );\n",
      "                        kernels[24] = compute_kernel(x,   1.0  , 0.0  , 0.0  , 22.0  , 0.0  , 0.0 );\n",
      "                        kernels[25] = compute_kernel(x,   1.0  , 1.0  , 1.0  , 78.0  , 0.0  , 0.0 );\n",
      "                        kernels[26] = compute_kernel(x,   0.0  , 1.0  , 0.0  , 86.0  , 0.0  , 0.0 );\n",
      "                        kernels[27] = compute_kernel(x,   1.0  , 1.0  , 1.0  , 80.0  , 108.0  , 127.0 );\n",
      "                        kernels[28] = compute_kernel(x,   1.0  , 0.0  , 1.0  , 86.0  , 0.0  , 0.0 );\n",
      "                        kernels[29] = compute_kernel(x,   0.0  , 0.0  , 0.0  , 19.0  , 0.0  , 0.0 );\n",
      "                        kernels[30] = compute_kernel(x,   1.0  , 0.0  , 1.0  , 86.0  , 0.0  , 0.0 );\n",
      "                        kernels[31] = compute_kernel(x,   1.0  , 1.0  , 1.0  , 80.0  , 0.0  , 0.0 );\n",
      "                        kernels[32] = compute_kernel(x,   1.0  , 1.0  , 1.0  , 13.0  , 0.0  , 0.0 );\n",
      "                        kernels[33] = compute_kernel(x,   1.0  , 0.0  , 0.0  , 90.0  , 0.0  , 0.0 );\n",
      "                        kernels[34] = compute_kernel(x,   0.0  , 0.0  , 1.0  , 24.0  , 0.0  , 0.0 );\n",
      "                        kernels[35] = compute_kernel(x,   1.0  , 0.0  , 1.0  , 86.0  , 0.0  , 0.0 );\n",
      "                        kernels[36] = compute_kernel(x,   1.0  , 1.0  , 0.0  , 35.0  , 0.0  , 0.0 );\n",
      "                        kernels[37] = compute_kernel(x,   1.0  , 0.0  , 0.0  , 89.0  , 0.0  , 0.0 );\n",
      "                        kernels[38] = compute_kernel(x,   1.0  , 1.0  , 1.0  , 79.0  , 0.0  , 0.0 );\n",
      "                        kernels[39] = compute_kernel(x,   1.0  , 0.0  , 1.0  , 15.0  , 0.0  , 0.0 );\n",
      "                        kernels[40] = compute_kernel(x,   1.0  , 0.0  , 1.0  , 86.0  , 0.0  , 0.0 );\n",
      "                        decisions[0] = 18.0\n",
      "                        + kernels[1] * 0.03125\n",
      "                        + kernels[3] * -0.03125\n",
      "                        ;\n",
      "                        decisions[1] = -0.487133775926\n",
      "                        + kernels[0] * 0.577320479507\n",
      "                        + kernels[1]\n",
      "                        + kernels[6] * -0.905890872485\n",
      "                        + kernels[8] * -0.671429607022\n",
      "                        ;\n",
      "                        decisions[2] = -0.980099502488\n",
      "                        + kernels[0]\n",
      "                        + kernels[1]\n",
      "                        - kernels[15]\n",
      "                        + kernels[23] * -0.978742650384\n",
      "                        + kernels[24] * -0.021257349616\n",
      "                        ;\n",
      "                        decisions[3] = -1.058130771015\n",
      "                        + kernels[0]\n",
      "                        + kernels[1]\n",
      "                        - kernels[32]\n",
      "                        + kernels[36] * -0.088187097177\n",
      "                        + kernels[38] * -0.784972499028\n",
      "                        + kernels[39] * -0.126840403795\n",
      "                        ;\n",
      "                        decisions[4] = -0.999629163579\n",
      "                        + kernels[2]\n",
      "                        + kernels[3] * 0.199998154801\n",
      "                        + kernels[4] * 0.799520417884\n",
      "                        + kernels[5] * -0.799595413183\n",
      "                        + kernels[7] * -0.199923159502\n",
      "                        - kernels[8]\n",
      "                        ;\n",
      "                        decisions[5] = -1.000000000001\n",
      "                        + kernels[2]\n",
      "                        + kernels[3]\n",
      "                        + kernels[4]\n",
      "                        + kernels[12] * -0.799999999999\n",
      "                        + kernels[18] * -0.2\n",
      "                        + kernels[21] * -0.200000000001\n",
      "                        + kernels[22] * -0.986666666667\n",
      "                        + kernels[23] * -0.013333333333\n",
      "                        + kernels[25] * -0.8\n",
      "                        ;\n",
      "                        decisions[6] = -2.367944744\n",
      "                        + kernels[2]\n",
      "                        + kernels[3]\n",
      "                        + kernels[4]\n",
      "                        + kernels[27] * -2.4612434e-05\n",
      "                        - kernels[31]\n",
      "                        + kernels[33] * -0.836067154979\n",
      "                        + kernels[36] * -0.163908232587\n",
      "                        - kernels[38]\n",
      "                        ;\n",
      "                        decisions[7] = 0.000738218669\n",
      "                        + kernels[5]\n",
      "                        + kernels[6] * 0.499464992504\n",
      "                        + kernels[7]\n",
      "                        + kernels[8]\n",
      "                        + kernels[11] * -0.361038968473\n",
      "                        + kernels[15] * -0.612766027057\n",
      "                        + kernels[16] * -0.13523628017\n",
      "                        - kernels[19]\n",
      "                        + kernels[23] * -0.8873443214\n",
      "                        + kernels[24] * -0.500540586161\n",
      "                        + kernels[26] * -0.002538809243\n",
      "                        ;\n",
      "                        decisions[8] = -1.298136477245\n",
      "                        + kernels[5]\n",
      "                        + kernels[6]\n",
      "                        + kernels[7]\n",
      "                        + kernels[8]\n",
      "                        + kernels[29] * -0.884986177332\n",
      "                        + kernels[31] * -0.904857390688\n",
      "                        + kernels[33] * -0.176878451337\n",
      "                        - kernels[34]\n",
      "                        + kernels[35] * -0.033277980643\n",
      "                        - kernels[40]\n",
      "                        ;\n",
      "                        decisions[9] = -1.147873496408\n",
      "                        + kernels[9]\n",
      "                        + kernels[10]\n",
      "                        + kernels[13] * 4.3098e-07\n",
      "                        + kernels[14]\n",
      "                        + kernels[15]\n",
      "                        + kernels[17]\n",
      "                        + kernels[19]\n",
      "                        + kernels[20]\n",
      "                        + kernels[21]\n",
      "                        + kernels[23]\n",
      "                        + kernels[24]\n",
      "                        + kernels[25] * 0.061483440203\n",
      "                        + kernels[27] * -7.2486111e-05\n",
      "                        + kernels[28] * -0.878294629147\n",
      "                        + kernels[29] * -0.738794525838\n",
      "                        + kernels[30] * -0.921961126818\n",
      "                        - kernels[31]\n",
      "                        - kernels[32]\n",
      "                        - kernels[33]\n",
      "                        + kernels[35] * -0.522361103268\n",
      "                        - kernels[36]\n",
      "                        - kernels[37]\n",
      "                        - kernels[38]\n",
      "                        - kernels[40]\n",
      "                        ;\n",
      "                        votes[decisions[0] > 0 ? 0 : 1] += 1;\n",
      "                        votes[decisions[1] > 0 ? 0 : 2] += 1;\n",
      "                        votes[decisions[2] > 0 ? 0 : 3] += 1;\n",
      "                        votes[decisions[3] > 0 ? 0 : 4] += 1;\n",
      "                        votes[decisions[4] > 0 ? 1 : 2] += 1;\n",
      "                        votes[decisions[5] > 0 ? 1 : 3] += 1;\n",
      "                        votes[decisions[6] > 0 ? 1 : 4] += 1;\n",
      "                        votes[decisions[7] > 0 ? 2 : 3] += 1;\n",
      "                        votes[decisions[8] > 0 ? 2 : 4] += 1;\n",
      "                        votes[decisions[9] > 0 ? 3 : 4] += 1;\n",
      "                        int val = votes[0];\n",
      "                        int idx = 0;\n",
      "\n",
      "                        for (int i = 1; i < 5; i++) {\n",
      "                            if (votes[i] > val) {\n",
      "                                val = votes[i];\n",
      "                                idx = i;\n",
      "                            }\n",
      "                        }\n",
      "\n",
      "                        return idx;\n",
      "                    }\n",
      "\n",
      "                protected:\n",
      "                    /**\n",
      "                    * Compute kernel between feature vector and support vector.\n",
      "                    * Kernel type: linear\n",
      "                    */\n",
      "                    float compute_kernel(float *x, ...) {\n",
      "                        va_list w;\n",
      "                        va_start(w, 6);\n",
      "                        float kernel = 0.0;\n",
      "\n",
      "                        for (uint16_t i = 0; i < 6; i++) {\n",
      "                            kernel += x[i] * va_arg(w, double);\n",
      "                        }\n",
      "\n",
      "                        return kernel;\n",
      "                    }\n",
      "                };\n",
      "            }\n",
      "        }\n",
      "    }\n"
     ]
    }
   ],
   "source": [
    "print(port(clf))"
   ]
  },
  {
   "cell_type": "code",
   "execution_count": 173,
   "metadata": {},
   "outputs": [
    {
     "name": "stdout",
     "output_type": "stream",
     "text": [
      "#pragma once\n",
      "namespace Eloquent {\n",
      "    namespace ML {\n",
      "        namespace Port {\n",
      "            class SVM {\n",
      "                public:\n",
      "                    SVM() {\n",
      "                    }\n",
      "\n",
      "                    /**\n",
      "                    * Predict class for features vector\n",
      "                    */\n",
      "                    int predict(float *x) {\n",
      "                        float kernels[41] = { 0 };\n",
      "                        float decisions[10] = { 0 };\n",
      "                        int votes[5] = { 0 };\n",
      "                        kernels[0] = compute_kernel(x,   1.0  , 1.0  , 1.0  , 12.0  , 0.0  , 0.0 );\n",
      "                        kernels[1] = compute_kernel(x,   1.0  , 1.0  , 1.0  , 68.0  , 0.0  , 0.0 );\n",
      "                        kernels[2] = compute_kernel(x,   1.0  , 1.0  , 1.0  , 84.0  , 0.0  , 0.0 );\n",
      "                        kernels[3] = compute_kernel(x,   1.0  , 1.0  , 1.0  , 76.0  , 0.0  , 0.0 );\n",
      "                        kernels[4] = compute_kernel(x,   1.0  , 1.0  , 0.0  , 80.0  , 0.0  , 0.0 );\n",
      "                        kernels[5] = compute_kernel(x,   0.0  , 0.0  , 0.0  , 91.0  , 0.0  , 0.0 );\n",
      "                        kernels[6] = compute_kernel(x,   0.0  , 0.0  , 1.0  , 19.0  , 0.0  , 0.0 );\n",
      "                        kernels[7] = compute_kernel(x,   0.0  , 0.0  , 1.0  , 22.0  , 0.0  , 0.0 );\n",
      "                        kernels[8] = compute_kernel(x,   1.0  , 1.0  , 1.0  , 86.0  , 0.0  , 0.0 );\n",
      "                        kernels[9] = compute_kernel(x,   1.0  , 1.0  , 1.0  , 78.0  , 0.0  , 0.0 );\n",
      "                        kernels[10] = compute_kernel(x,   1.0  , 1.0  , 1.0  , 77.0  , 0.0  , 0.0 );\n",
      "                        kernels[11] = compute_kernel(x,   0.0  , 1.0  , 0.0  , 86.0  , 0.0  , 0.0 );\n",
      "                        kernels[12] = compute_kernel(x,   1.0  , 1.0  , 0.0  , 77.0  , 0.0  , 0.0 );\n",
      "                        kernels[13] = compute_kernel(x,   1.0  , 1.0  , 1.0  , 78.0  , 0.0  , 0.0 );\n",
      "                        kernels[14] = compute_kernel(x,   1.0  , 1.0  , 1.0  , 77.0  , 0.0  , 0.0 );\n",
      "                        kernels[15] = compute_kernel(x,   1.0  , 1.0  , 1.0  , 12.0  , 0.0  , 0.0 );\n",
      "                        kernels[16] = compute_kernel(x,   0.0  , 1.0  , 0.0  , 86.0  , 0.0  , 0.0 );\n",
      "                        kernels[17] = compute_kernel(x,   1.0  , 0.0  , 0.0  , 91.0  , 0.0  , 0.0 );\n",
      "                        kernels[18] = compute_kernel(x,   1.0  , 1.0  , 0.0  , 84.0  , 0.0  , 0.0 );\n",
      "                        kernels[19] = compute_kernel(x,   0.0  , 0.0  , 0.0  , 86.0  , 0.0  , 0.0 );\n",
      "                        kernels[20] = compute_kernel(x,   1.0  , 0.0  , 0.0  , 92.0  , 0.0  , 0.0 );\n",
      "                        kernels[21] = compute_kernel(x,   1.0  , 1.0  , 1.0  , 77.0  , 0.0  , 0.0 );\n",
      "                        kernels[22] = compute_kernel(x,   1.0  , 1.0  , 1.0  , 84.0  , 0.0  , 0.0 );\n",
      "                        kernels[23] = compute_kernel(x,   1.0  , 1.0  , 1.0  , 69.0  , 0.0  , 0.0 );\n",
      "                        kernels[24] = compute_kernel(x,   1.0  , 0.0  , 0.0  , 22.0  , 0.0  , 0.0 );\n",
      "                        kernels[25] = compute_kernel(x,   1.0  , 1.0  , 1.0  , 78.0  , 0.0  , 0.0 );\n",
      "                        kernels[26] = compute_kernel(x,   0.0  , 1.0  , 0.0  , 86.0  , 0.0  , 0.0 );\n",
      "                        kernels[27] = compute_kernel(x,   1.0  , 1.0  , 1.0  , 80.0  , 108.0  , 127.0 );\n",
      "                        kernels[28] = compute_kernel(x,   1.0  , 0.0  , 1.0  , 86.0  , 0.0  , 0.0 );\n",
      "                        kernels[29] = compute_kernel(x,   0.0  , 0.0  , 0.0  , 19.0  , 0.0  , 0.0 );\n",
      "                        kernels[30] = compute_kernel(x,   1.0  , 0.0  , 1.0  , 86.0  , 0.0  , 0.0 );\n",
      "                        kernels[31] = compute_kernel(x,   1.0  , 1.0  , 1.0  , 80.0  , 0.0  , 0.0 );\n",
      "                        kernels[32] = compute_kernel(x,   1.0  , 1.0  , 1.0  , 13.0  , 0.0  , 0.0 );\n",
      "                        kernels[33] = compute_kernel(x,   1.0  , 0.0  , 0.0  , 90.0  , 0.0  , 0.0 );\n",
      "                        kernels[34] = compute_kernel(x,   0.0  , 0.0  , 1.0  , 24.0  , 0.0  , 0.0 );\n",
      "                        kernels[35] = compute_kernel(x,   1.0  , 0.0  , 1.0  , 86.0  , 0.0  , 0.0 );\n",
      "                        kernels[36] = compute_kernel(x,   1.0  , 1.0  , 0.0  , 35.0  , 0.0  , 0.0 );\n",
      "                        kernels[37] = compute_kernel(x,   1.0  , 0.0  , 0.0  , 89.0  , 0.0  , 0.0 );\n",
      "                        kernels[38] = compute_kernel(x,   1.0  , 1.0  , 1.0  , 79.0  , 0.0  , 0.0 );\n",
      "                        kernels[39] = compute_kernel(x,   1.0  , 0.0  , 1.0  , 15.0  , 0.0  , 0.0 );\n",
      "                        kernels[40] = compute_kernel(x,   1.0  , 0.0  , 1.0  , 86.0  , 0.0  , 0.0 );\n",
      "                        decisions[0] = 18.0\n",
      "                        + kernels[1] * 0.03125\n",
      "                        + kernels[3] * -0.03125\n",
      "                        ;\n",
      "                        decisions[1] = -0.487133775926\n",
      "                        + kernels[0] * 0.577320479507\n",
      "                        + kernels[1]\n",
      "                        + kernels[6] * -0.905890872485\n",
      "                        + kernels[8] * -0.671429607022\n",
      "                        ;\n",
      "                        decisions[2] = -0.980099502488\n",
      "                        + kernels[0]\n",
      "                        + kernels[1]\n",
      "                        - kernels[15]\n",
      "                        + kernels[23] * -0.978742650384\n",
      "                        + kernels[24] * -0.021257349616\n",
      "                        ;\n",
      "                        decisions[3] = -1.058130771015\n",
      "                        + kernels[0]\n",
      "                        + kernels[1]\n",
      "                        - kernels[32]\n",
      "                        + kernels[36] * -0.088187097177\n",
      "                        + kernels[38] * -0.784972499028\n",
      "                        + kernels[39] * -0.126840403795\n",
      "                        ;\n",
      "                        decisions[4] = -0.999629163579\n",
      "                        + kernels[2]\n",
      "                        + kernels[3] * 0.199998154801\n",
      "                        + kernels[4] * 0.799520417884\n",
      "                        + kernels[5] * -0.799595413183\n",
      "                        + kernels[7] * -0.199923159502\n",
      "                        - kernels[8]\n",
      "                        ;\n",
      "                        decisions[5] = -1.000000000001\n",
      "                        + kernels[2]\n",
      "                        + kernels[3]\n",
      "                        + kernels[4]\n",
      "                        + kernels[12] * -0.799999999999\n",
      "                        + kernels[18] * -0.2\n",
      "                        + kernels[21] * -0.200000000001\n",
      "                        + kernels[22] * -0.986666666667\n",
      "                        + kernels[23] * -0.013333333333\n",
      "                        + kernels[25] * -0.8\n",
      "                        ;\n",
      "                        decisions[6] = -2.367944744\n",
      "                        + kernels[2]\n",
      "                        + kernels[3]\n",
      "                        + kernels[4]\n",
      "                        + kernels[27] * -2.4612434e-05\n",
      "                        - kernels[31]\n",
      "                        + kernels[33] * -0.836067154979\n",
      "                        + kernels[36] * -0.163908232587\n",
      "                        - kernels[38]\n",
      "                        ;\n",
      "                        decisions[7] = 0.000738218669\n",
      "                        + kernels[5]\n",
      "                        + kernels[6] * 0.499464992504\n",
      "                        + kernels[7]\n",
      "                        + kernels[8]\n",
      "                        + kernels[11] * -0.361038968473\n",
      "                        + kernels[15] * -0.612766027057\n",
      "                        + kernels[16] * -0.13523628017\n",
      "                        - kernels[19]\n",
      "                        + kernels[23] * -0.8873443214\n",
      "                        + kernels[24] * -0.500540586161\n",
      "                        + kernels[26] * -0.002538809243\n",
      "                        ;\n",
      "                        decisions[8] = -1.298136477245\n",
      "                        + kernels[5]\n",
      "                        + kernels[6]\n",
      "                        + kernels[7]\n",
      "                        + kernels[8]\n",
      "                        + kernels[29] * -0.884986177332\n",
      "                        + kernels[31] * -0.904857390688\n",
      "                        + kernels[33] * -0.176878451337\n",
      "                        - kernels[34]\n",
      "                        + kernels[35] * -0.033277980643\n",
      "                        - kernels[40]\n",
      "                        ;\n",
      "                        decisions[9] = -1.147873496408\n",
      "                        + kernels[9]\n",
      "                        + kernels[10]\n",
      "                        + kernels[13] * 4.3098e-07\n",
      "                        + kernels[14]\n",
      "                        + kernels[15]\n",
      "                        + kernels[17]\n",
      "                        + kernels[19]\n",
      "                        + kernels[20]\n",
      "                        + kernels[21]\n",
      "                        + kernels[23]\n",
      "                        + kernels[24]\n",
      "                        + kernels[25] * 0.061483440203\n",
      "                        + kernels[27] * -7.2486111e-05\n",
      "                        + kernels[28] * -0.878294629147\n",
      "                        + kernels[29] * -0.738794525838\n",
      "                        + kernels[30] * -0.921961126818\n",
      "                        - kernels[31]\n",
      "                        - kernels[32]\n",
      "                        - kernels[33]\n",
      "                        + kernels[35] * -0.522361103268\n",
      "                        - kernels[36]\n",
      "                        - kernels[37]\n",
      "                        - kernels[38]\n",
      "                        - kernels[40]\n",
      "                        ;\n",
      "                        votes[decisions[0] > 0 ? 0 : 1] += 1;\n",
      "                        votes[decisions[1] > 0 ? 0 : 2] += 1;\n",
      "                        votes[decisions[2] > 0 ? 0 : 3] += 1;\n",
      "                        votes[decisions[3] > 0 ? 0 : 4] += 1;\n",
      "                        votes[decisions[4] > 0 ? 1 : 2] += 1;\n",
      "                        votes[decisions[5] > 0 ? 1 : 3] += 1;\n",
      "                        votes[decisions[6] > 0 ? 1 : 4] += 1;\n",
      "                        votes[decisions[7] > 0 ? 2 : 3] += 1;\n",
      "                        votes[decisions[8] > 0 ? 2 : 4] += 1;\n",
      "                        votes[decisions[9] > 0 ? 3 : 4] += 1;\n",
      "                        int val = votes[0];\n",
      "                        int idx = 0;\n",
      "\n",
      "                        for (int i = 1; i < 5; i++) {\n",
      "                            if (votes[i] > val) {\n",
      "                                val = votes[i];\n",
      "                                idx = i;\n",
      "                            }\n",
      "                        }\n",
      "\n",
      "                        return idx;\n",
      "                    }\n",
      "\n",
      "                protected:\n",
      "                    /**\n",
      "                    * Compute kernel between feature vector and support vector.\n",
      "                    * Kernel type: linear\n",
      "                    */\n",
      "                    float compute_kernel(float *x, ...) {\n",
      "                        va_list w;\n",
      "                        va_start(w, 6);\n",
      "                        float kernel = 0.0;\n",
      "\n",
      "                        for (uint16_t i = 0; i < 6; i++) {\n",
      "                            kernel += x[i] * va_arg(w, double);\n",
      "                        }\n",
      "\n",
      "                        return kernel;\n",
      "                    }\n",
      "                };\n",
      "            }\n",
      "        }\n",
      "    }\n",
      "\n",
      "unsigned char svm_action_classes[] = {'*', 'D', 'L', 'R', 'U'};\n",
      "using namespace Eloquent::ML::Port;\n",
      "SVM svm = SVM();\n",
      "\n",
      "unsigned char svm_predict(float *x) {\n",
      "    return svm_action_classes[svm.predict(x)];\n",
      "}\n",
      "\n"
     ]
    }
   ],
   "source": [
    "output_file = port(clf) + \"\\n\\nunsigned char svm_action_classes[] = \" + str(list(clf.classes_)).replace(\"[\",\"{\").replace(\"]\",\"}\") + \";\"  + \"\"\"\n",
    "using namespace Eloquent::ML::Port;\n",
    "SVM svm = SVM();\n",
    "\n",
    "unsigned char svm_predict(float *x) {\n",
    "    return svm_action_classes[svm.predict(x)];\n",
    "}\n",
    "\"\"\"\n",
    "print(output_file)"
   ]
  },
  {
   "cell_type": "code",
   "execution_count": 174,
   "metadata": {},
   "outputs": [],
   "source": [
    "with open(\"car_obstacle_train/obstacle_model_svm.h\",\"w\") as f:\n",
    "    f.write(output_file)"
   ]
  },
  {
   "cell_type": "markdown",
   "metadata": {},
   "source": [
    "# TENSORFLOW"
   ]
  },
  {
   "cell_type": "code",
   "execution_count": 175,
   "metadata": {},
   "outputs": [
    {
     "name": "stdout",
     "output_type": "stream",
     "text": [
      "2.0.0\n"
     ]
    }
   ],
   "source": [
    "import tensorflow as tf\n",
    "from tensorflow import keras\n",
    "from tensorflow.keras import layers\n",
    "from tensorflow.keras.utils import to_categorical\n",
    "print(tf.__version__)\n",
    "tf.random.set_seed(123456)"
   ]
  },
  {
   "cell_type": "code",
   "execution_count": 176,
   "metadata": {},
   "outputs": [
    {
     "data": {
      "text/plain": [
       "array(['*', 'D', 'L', 'R', 'U'], dtype=object)"
      ]
     },
     "execution_count": 176,
     "metadata": {},
     "output_type": "execute_result"
    }
   ],
   "source": [
    "from sklearn.preprocessing import LabelEncoder\n",
    "import numpy as np\n",
    "\n",
    "code = np.array(Y)\n",
    "label_encoder = LabelEncoder()\n",
    "vec = label_encoder.fit_transform(code)\n",
    "label_encoder.classes_"
   ]
  },
  {
   "cell_type": "code",
   "execution_count": 177,
   "metadata": {},
   "outputs": [
    {
     "name": "stdout",
     "output_type": "stream",
     "text": [
      "(74, 6) (74, 5)\n",
      "(25, 6) (25, 5)\n"
     ]
    }
   ],
   "source": [
    "from tensorflow.keras.utils import to_categorical\n",
    "y_train_ = to_categorical(label_encoder.transform(y_train))\n",
    "y_test_ = to_categorical(label_encoder.transform(y_test))\n",
    "\n",
    "x_train_ = tf.convert_to_tensor(x_train.astype(float).values)\n",
    "x_test_ = tf.convert_to_tensor(x_test.astype(float).values)\n",
    "print(x_train_.shape, y_train_.shape)\n",
    "print(x_test.shape, y_test_.shape)"
   ]
  },
  {
   "cell_type": "code",
   "execution_count": 178,
   "metadata": {},
   "outputs": [
    {
     "name": "stdout",
     "output_type": "stream",
     "text": [
      "Model: \"sequential_20\"\n",
      "_________________________________________________________________\n",
      "Layer (type)                 Output Shape              Param #   \n",
      "=================================================================\n",
      "dense_40 (Dense)             (None, 3)                 21        \n",
      "_________________________________________________________________\n",
      "dense_41 (Dense)             (None, 5)                 20        \n",
      "=================================================================\n",
      "Total params: 41\n",
      "Trainable params: 41\n",
      "Non-trainable params: 0\n",
      "_________________________________________________________________\n",
      "Train on 74 samples\n",
      "Epoch 1/18\n",
      "74/74 [==============================] - 0s 6ms/sample - loss: 2.5163 - accuracy: 0.8108\n",
      "Epoch 2/18\n",
      "74/74 [==============================] - 0s 67us/sample - loss: 2.5068 - accuracy: 0.8108\n",
      "Epoch 3/18\n",
      "74/74 [==============================] - 0s 68us/sample - loss: 2.4969 - accuracy: 0.8108\n",
      "Epoch 4/18\n",
      "74/74 [==============================] - 0s 67us/sample - loss: 2.4872 - accuracy: 0.8108\n",
      "Epoch 5/18\n",
      "74/74 [==============================] - 0s 67us/sample - loss: 2.4781 - accuracy: 0.8108\n",
      "Epoch 6/18\n",
      "74/74 [==============================] - 0s 67us/sample - loss: 2.4687 - accuracy: 0.8108\n",
      "Epoch 7/18\n",
      "74/74 [==============================] - 0s 67us/sample - loss: 2.4588 - accuracy: 0.8108\n",
      "Epoch 8/18\n",
      "74/74 [==============================] - 0s 81us/sample - loss: 2.4486 - accuracy: 0.8108\n",
      "Epoch 9/18\n",
      "74/74 [==============================] - 0s 67us/sample - loss: 2.4397 - accuracy: 0.8108\n",
      "Epoch 10/18\n",
      "74/74 [==============================] - 0s 81us/sample - loss: 2.4303 - accuracy: 0.8108\n",
      "Epoch 11/18\n",
      "74/74 [==============================] - 0s 67us/sample - loss: 2.4211 - accuracy: 0.8108\n",
      "Epoch 12/18\n",
      "74/74 [==============================] - 0s 121us/sample - loss: 2.4115 - accuracy: 0.8108\n",
      "Epoch 13/18\n",
      "74/74 [==============================] - 0s 108us/sample - loss: 2.4025 - accuracy: 0.8108\n",
      "Epoch 14/18\n",
      "74/74 [==============================] - 0s 67us/sample - loss: 2.3935 - accuracy: 0.8108\n",
      "Epoch 15/18\n",
      "74/74 [==============================] - 0s 81us/sample - loss: 2.3837 - accuracy: 0.8108\n",
      "Epoch 16/18\n",
      "74/74 [==============================] - 0s 67us/sample - loss: 2.3752 - accuracy: 0.8108\n",
      "Epoch 17/18\n",
      "74/74 [==============================] - 0s 68us/sample - loss: 2.3653 - accuracy: 0.8108\n",
      "Epoch 18/18\n",
      "74/74 [==============================] - 0s 81us/sample - loss: 2.3560 - accuracy: 0.8108\n"
     ]
    },
    {
     "data": {
      "text/plain": [
       "<tensorflow.python.keras.callbacks.History at 0x42138550>"
      ]
     },
     "execution_count": 178,
     "metadata": {},
     "output_type": "execute_result"
    }
   ],
   "source": [
    "model = tf.keras.models.Sequential([\n",
    "  tf.keras.layers.Dense(3, input_shape=(6,), activation='relu'),\n",
    "  tf.keras.layers.Dense(5, activation='softmax')\n",
    "])\n",
    "\n",
    "model.compile(optimizer=\"adam\",\n",
    "              loss='binary_crossentropy',  \n",
    "              metrics=['accuracy'])\n",
    "model.summary()\n",
    "\n",
    "model.fit(x_train_,y_train_, epochs=18)"
   ]
  },
  {
   "cell_type": "code",
   "execution_count": 179,
   "metadata": {},
   "outputs": [
    {
     "data": {
      "text/plain": [
       "array([[0.       , 0.00069  , 0.       , 0.99931  , 0.       ],\n",
       "       [0.       , 0.       , 0.       , 1.       , 0.       ],\n",
       "       [0.       , 0.       , 0.       , 1.       , 0.       ],\n",
       "       ...,\n",
       "       [0.       , 0.0110441, 0.0000056, 0.9889503, 0.       ],\n",
       "       [0.0001836, 0.11327  , 0.0032021, 0.883292 , 0.0000523],\n",
       "       [0.       , 0.       , 0.       , 1.       , 0.       ]],\n",
       "      dtype=float32)"
      ]
     },
     "execution_count": 179,
     "metadata": {},
     "output_type": "execute_result"
    }
   ],
   "source": [
    "model.predict([x_test_])"
   ]
  },
  {
   "cell_type": "code",
   "execution_count": 180,
   "metadata": {},
   "outputs": [
    {
     "data": {
      "text/plain": [
       "['R',\n",
       " 'R',\n",
       " 'R',\n",
       " 'L',\n",
       " 'R',\n",
       " 'R',\n",
       " 'R',\n",
       " 'R',\n",
       " 'R',\n",
       " 'R',\n",
       " 'R',\n",
       " 'R',\n",
       " 'R',\n",
       " 'R',\n",
       " 'R',\n",
       " 'R',\n",
       " 'R',\n",
       " 'R',\n",
       " 'R',\n",
       " 'R',\n",
       " 'R',\n",
       " 'R',\n",
       " 'R',\n",
       " 'R',\n",
       " 'R']"
      ]
     },
     "execution_count": 180,
     "metadata": {},
     "output_type": "execute_result"
    }
   ],
   "source": [
    "def encode_output(y):\n",
    "    return [label_encoder.classes_[i] for i in np.argmax(y,axis=1)]\n",
    "\n",
    "encode_output(model.predict([x_test_]))"
   ]
  },
  {
   "cell_type": "markdown",
   "metadata": {},
   "source": [
    "# WEIGHTS"
   ]
  },
  {
   "cell_type": "markdown",
   "metadata": {},
   "source": [
    "#### Wszystkie wagi modelu potrzebne do eksportu do C++"
   ]
  },
  {
   "cell_type": "code",
   "execution_count": 181,
   "metadata": {},
   "outputs": [
    {
     "data": {
      "text/plain": [
       "[<tf.Variable 'dense_40/kernel:0' shape=(6, 3) dtype=float32, numpy=\n",
       " array([[ 0.693884 , -0.1836377, -0.4869193],\n",
       "        [-0.1112254,  0.0940931,  0.4834505],\n",
       "        [-0.6351829,  0.8122994,  0.3499156],\n",
       "        [ 0.7303514, -0.2926492, -0.0962359],\n",
       "        [ 0.4238856,  0.291497 , -0.6941188],\n",
       "        [-0.3198619,  0.4232637, -0.4152213]], dtype=float32)>,\n",
       " <tf.Variable 'dense_40/bias:0' shape=(3,) dtype=float32, numpy=array([-0.0508286,  0.       ,  0.       ], dtype=float32)>,\n",
       " <tf.Variable 'dense_41/kernel:0' shape=(3, 5) dtype=float32, numpy=\n",
       " array([[-0.4100235,  0.4793676, -0.0144266,  0.7790407, -0.585251 ],\n",
       "        [ 0.0685366,  0.5928426,  0.7536497, -0.4205679, -0.7062055],\n",
       "        [ 0.3954012,  0.4625965, -0.2965532, -0.8576401, -0.4547196]],\n",
       "       dtype=float32)>,\n",
       " <tf.Variable 'dense_41/bias:0' shape=(5,) dtype=float32, numpy=\n",
       " array([ 0.0306683,  0.0515581,  0.0409896, -0.052255 ,  0.035845 ],\n",
       "       dtype=float32)>]"
      ]
     },
     "execution_count": 181,
     "metadata": {},
     "output_type": "execute_result"
    }
   ],
   "source": [
    "model.weights"
   ]
  },
  {
   "cell_type": "markdown",
   "metadata": {},
   "source": [
    "#### Jak przelicza każdą warstwę nasz model"
   ]
  },
  {
   "cell_type": "code",
   "execution_count": 182,
   "metadata": {},
   "outputs": [
    {
     "data": {
      "text/plain": [
       "[[array([[24.633427 ,  0.       ,  0.       ],\n",
       "         [63.342056 ,  0.       ,  0.       ],\n",
       "         [63.342056 ,  0.       ,  0.       ],\n",
       "         ...,\n",
       "         [15.345253 ,  0.       ,  0.       ],\n",
       "         [ 7.2001615,  0.       ,  0.       ],\n",
       "         [61.97652  ,  0.       ,  0.       ]], dtype=float32)],\n",
       " [array([[0.       , 0.00069  , 0.       , 0.99931  , 0.       ],\n",
       "         [0.       , 0.       , 0.       , 1.       , 0.       ],\n",
       "         [0.       , 0.       , 0.       , 1.       , 0.       ],\n",
       "         ...,\n",
       "         [0.       , 0.0110441, 0.0000056, 0.9889503, 0.       ],\n",
       "         [0.0001836, 0.11327  , 0.0032021, 0.883292 , 0.0000523],\n",
       "         [0.       , 0.       , 0.       , 1.       , 0.       ]],\n",
       "        dtype=float32)]]"
      ]
     },
     "execution_count": 182,
     "metadata": {},
     "output_type": "execute_result"
    }
   ],
   "source": [
    "# WYSWIETL KAZDY LAYER OSOBNO\n",
    "from tensorflow.keras import backend as K\n",
    "\n",
    "inp = model.input                                           # input placeholder\n",
    "outputs = [layer.output for layer in model.layers]          # all layer outputs\n",
    "functors = [K.function([inp], [out]) for out in outputs]    # evaluation functions\n",
    "layer_outs = [func([x_test_]) for func in functors]\n",
    "layer_outs"
   ]
  },
  {
   "cell_type": "markdown",
   "metadata": {},
   "source": [
    "### Wyliczenie przy pomocy nunmpy naszego modelu"
   ]
  },
  {
   "cell_type": "code",
   "execution_count": 183,
   "metadata": {},
   "outputs": [
    {
     "name": "stdout",
     "output_type": "stream",
     "text": [
      "tf.Tensor(\n",
      "[[ 1.  1.  0. 33.  0.  0.]\n",
      " [ 1.  1.  0. 86.  0.  0.]\n",
      " [ 1.  1.  0. 86.  0.  0.]\n",
      " ...\n",
      " [ 1.  0.  1. 21.  0.  0.]\n",
      " [ 1.  1.  1. 10.  0.  0.]\n",
      " [ 1.  1.  1. 85.  0.  0.]], shape=(25, 6), dtype=float64)\n",
      "1 layer:\n",
      "(25, 3) [[24.6334278  0.         0.       ]\n",
      " [63.3420545  0.         0.       ]\n",
      " [63.3420545  0.         0.       ]\n",
      " ...\n",
      " [15.3452529  0.         0.       ]\n",
      " [ 7.2001616  0.         0.       ]\n",
      " [61.9765202  0.         0.       ]]\n",
      "2 layer:\n",
      "(25, 5) [[-10.0696162  11.8600256  -0.3143867  19.1381877 -14.380894 ]\n",
      " [-25.9410632  30.4156877  -0.8728201  49.2937831 -37.0351578]\n",
      " [-25.9410632  30.4156877  -0.8728201  49.2937831 -37.0351578]\n",
      " ...\n",
      " [ -6.2612462   7.4075754  -0.1803901  11.9023215  -8.9449801]\n",
      " [ -2.9215672   3.5030824  -0.0628842   5.5569639  -4.1780569]\n",
      " [-25.3811621  29.7610947  -0.8531201  48.2299763 -36.2359774]]\n"
     ]
    },
    {
     "data": {
      "text/plain": [
       "array([[0.       , 0.00069  , 0.       , 0.99931  , 0.       ],\n",
       "       [0.       , 0.       , 0.       , 1.       , 0.       ],\n",
       "       [0.       , 0.       , 0.       , 1.       , 0.       ],\n",
       "       ...,\n",
       "       [0.       , 0.0110441, 0.0000056, 0.9889503, 0.       ],\n",
       "       [0.0001836, 0.11327  , 0.0032021, 0.883292 , 0.0000523],\n",
       "       [0.       , 0.       , 0.       , 1.       , 0.       ]])"
      ]
     },
     "execution_count": 183,
     "metadata": {},
     "output_type": "execute_result"
    }
   ],
   "source": [
    "weight_1 = model.weights[0].numpy()\n",
    "bias_1 = model.weights[1].numpy()\n",
    "weight_2 =  model.weights[2].numpy()\n",
    "bias_2 =  model.weights[3].numpy()\n",
    "\n",
    "\n",
    "def softmax(z):\n",
    "    assert len(z.shape) == 2\n",
    "    s = np.max(z, axis=1)\n",
    "    s = s[:, np.newaxis] # necessary step to do broadcasting\n",
    "    e_x = np.exp(z - s)\n",
    "    div = np.sum(e_x, axis=1)\n",
    "    div = div[:, np.newaxis] # dito\n",
    "    return e_x / div\n",
    "\n",
    "\n",
    "def predict_np(x):\n",
    "    arr = np.matmul(x,weight_1) + bias_1\n",
    "    arr[arr<0] = 0 # relu\n",
    "    \n",
    "    print(\"1 layer:\")\n",
    "    print(arr.shape, arr)\n",
    "    \n",
    "    arr = np.matmul(arr, weight_2) + bias_2\n",
    "    print(\"2 layer:\")\n",
    "    print(arr.shape, arr)\n",
    "    return softmax(arr)\n",
    "print(x_test_)\n",
    "\n",
    "predict_np(x_test_)"
   ]
  },
  {
   "cell_type": "code",
   "execution_count": 184,
   "metadata": {},
   "outputs": [
    {
     "data": {
      "text/plain": [
       "array([[0.       , 0.00069  , 0.       , 0.99931  , 0.       ],\n",
       "       [0.       , 0.       , 0.       , 1.       , 0.       ],\n",
       "       [0.       , 0.       , 0.       , 1.       , 0.       ],\n",
       "       ...,\n",
       "       [0.       , 0.0110441, 0.0000056, 0.9889503, 0.       ],\n",
       "       [0.0001836, 0.11327  , 0.0032021, 0.883292 , 0.0000523],\n",
       "       [0.       , 0.       , 0.       , 1.       , 0.       ]],\n",
       "      dtype=float32)"
      ]
     },
     "execution_count": 184,
     "metadata": {},
     "output_type": "execute_result"
    }
   ],
   "source": [
    "model.predict(x_test_)"
   ]
  },
  {
   "cell_type": "markdown",
   "metadata": {},
   "source": [
    "#### Czy predykcja przez numpy i tensorflow jest identyczna ?"
   ]
  },
  {
   "cell_type": "code",
   "execution_count": 185,
   "metadata": {},
   "outputs": [
    {
     "name": "stdout",
     "output_type": "stream",
     "text": [
      "1 layer:\n",
      "(25, 3) [[24.6334278  0.         0.       ]\n",
      " [63.3420545  0.         0.       ]\n",
      " [63.3420545  0.         0.       ]\n",
      " ...\n",
      " [15.3452529  0.         0.       ]\n",
      " [ 7.2001616  0.         0.       ]\n",
      " [61.9765202  0.         0.       ]]\n",
      "2 layer:\n",
      "(25, 5) [[-10.0696162  11.8600256  -0.3143867  19.1381877 -14.380894 ]\n",
      " [-25.9410632  30.4156877  -0.8728201  49.2937831 -37.0351578]\n",
      " [-25.9410632  30.4156877  -0.8728201  49.2937831 -37.0351578]\n",
      " ...\n",
      " [ -6.2612462   7.4075754  -0.1803901  11.9023215  -8.9449801]\n",
      " [ -2.9215672   3.5030824  -0.0628842   5.5569639  -4.1780569]\n",
      " [-25.3811621  29.7610947  -0.8531201  48.2299763 -36.2359774]]\n"
     ]
    },
    {
     "data": {
      "text/plain": [
       "True"
      ]
     },
     "execution_count": 185,
     "metadata": {},
     "output_type": "execute_result"
    }
   ],
   "source": [
    "np.allclose(model.predict(x_test_),predict_np(x_test_))"
   ]
  },
  {
   "cell_type": "markdown",
   "metadata": {},
   "source": [
    "## Konwersja do .cpp"
   ]
  },
  {
   "cell_type": "markdown",
   "metadata": {},
   "source": [
    "Zapisujemy do pliku car_obstacle_train/model.h nasz nowy model\n",
    "\n",
    "https://repl.it/@alexiej/PoorAdmiredConference#main.cpp"
   ]
  },
  {
   "cell_type": "code",
   "execution_count": 186,
   "metadata": {},
   "outputs": [
    {
     "name": "stdout",
     "output_type": "stream",
     "text": [
      "[<tf.Tensor: id=24331, shape=(6,), dtype=float64, numpy=array([ 1.,  1.,  0., 33.,  0.,  0.])>]\n",
      "1 layer:\n",
      "(1, 3) [[24.6334278  0.         0.       ]]\n",
      "2 layer:\n",
      "(1, 5) [[-10.0696162  11.8600256  -0.3143867  19.1381877 -14.380894 ]]\n"
     ]
    },
    {
     "data": {
      "text/plain": [
       "array([[0.     , 0.00069, 0.     , 0.99931, 0.     ]])"
      ]
     },
     "execution_count": 186,
     "metadata": {},
     "output_type": "execute_result"
    }
   ],
   "source": [
    "## Wartosci dla kazdej warstwy powinny byc identyczne dla podanego przykladu\n",
    "print([x_test_[0]])\n",
    "predict_np([x_test_[0]])"
   ]
  },
  {
   "cell_type": "markdown",
   "metadata": {},
   "source": [
    "## Output\n",
    "\n",
    "```shelll\n",
    "1st layer: 24.6334 0 0 \n",
    "2nd layer: -10.0696 11.86 -0.314387 19.1382 -14.3809 \n",
    "Softmax: 2.06497e-13 0.000689978 3.56087e-09 0.99931 2.77044e-15 \n",
    "Argmax: 3 = 'R'\n",
    "R\n",
    "```"
   ]
  },
  {
   "attachments": {
    "a15dff28-6588-497a-a07a-6ac4fc346636.png": {
     "image/png": "[encoded data removed]"
    }
   },
   "cell_type": "markdown",
   "metadata": {},
   "source": [
    "![image.png](attachment:a15dff28-6588-497a-a07a-6ac4fc346636.png)"
   ]
  },
  {
   "cell_type": "code",
   "execution_count": 187,
   "metadata": {},
   "outputs": [
    {
     "data": {
      "text/plain": [
       "[<tf.Variable 'dense_40/kernel:0' shape=(6, 3) dtype=float32, numpy=\n",
       " array([[ 0.693884 , -0.1836377, -0.4869193],\n",
       "        [-0.1112254,  0.0940931,  0.4834505],\n",
       "        [-0.6351829,  0.8122994,  0.3499156],\n",
       "        [ 0.7303514, -0.2926492, -0.0962359],\n",
       "        [ 0.4238856,  0.291497 , -0.6941188],\n",
       "        [-0.3198619,  0.4232637, -0.4152213]], dtype=float32)>,\n",
       " <tf.Variable 'dense_40/bias:0' shape=(3,) dtype=float32, numpy=array([-0.0508286,  0.       ,  0.       ], dtype=float32)>,\n",
       " <tf.Variable 'dense_41/kernel:0' shape=(3, 5) dtype=float32, numpy=\n",
       " array([[-0.4100235,  0.4793676, -0.0144266,  0.7790407, -0.585251 ],\n",
       "        [ 0.0685366,  0.5928426,  0.7536497, -0.4205679, -0.7062055],\n",
       "        [ 0.3954012,  0.4625965, -0.2965532, -0.8576401, -0.4547196]],\n",
       "       dtype=float32)>,\n",
       " <tf.Variable 'dense_41/bias:0' shape=(5,) dtype=float32, numpy=\n",
       " array([ 0.0306683,  0.0515581,  0.0409896, -0.052255 ,  0.035845 ],\n",
       "       dtype=float32)>]"
      ]
     },
     "execution_count": 187,
     "metadata": {},
     "output_type": "execute_result"
    }
   ],
   "source": [
    "model.weights"
   ]
  },
  {
   "attachments": {
    "bec01c10-5926-478e-babc-5879e1c44952.png": {
     "image/png": "[encoded data removed]"
    }
   },
   "cell_type": "markdown",
   "metadata": {},
   "source": [
    "![image.png](attachment:bec01c10-5926-478e-babc-5879e1c44952.png)"
   ]
  },
  {
   "cell_type": "markdown",
   "metadata": {},
   "source": [
    "https://repl.it/@alexiej/PoorAdmiredConference#main.cpp\n",
    "\n",
    "\n",
    "```cpp\n",
    "\n",
    "/******************************************************************************\n",
    "\n",
    "                              Online C++ Compiler.\n",
    "               Code, Compile, Run and Debug C++ program online.\n",
    "Write your code in this editor and press \"Run\" button to compile and execute it.\n",
    "\n",
    "*******************************************************************************/\n",
    "#include <math.h>\n",
    "#include <iostream>\n",
    "#include <string>\n",
    "\n",
    "/**\n",
    " * @brief Calculates the dot product of two float arrays\n",
    " * @param[in] float The first float array\n",
    " * @param[in] float The second float array\n",
    " * @param[in] int Number of elements in the array\n",
    " * @return float The result\n",
    " */\n",
    "float dot(float v[], float u[], int n)\n",
    "{\n",
    "    float result = 0.0;\n",
    "    for (int i = 0; i < n; i++)\n",
    "        result += v[i]*u[i];\n",
    "    return result;\n",
    "}\n",
    "\n",
    "float weight_1[6][3] = {{ 0.69388396, -0.18363768, -0.48691928},\n",
    "        {-0.11122542,  0.09409314,  0.48345053},\n",
    "        {-0.6351829 ,  0.8122994 ,  0.34991562},\n",
    "        { 0.73035145, -0.2926492 , -0.09623587},\n",
    "        { 0.42388558,  0.291497  , -0.6941188 },\n",
    "        {-0.31986186,  0.42326367, -0.4152213 }};\n",
    "\n",
    "float bias_1[3] = { -0.05082855,  0.        ,  0.        };\n",
    "\n",
    "float weight_2[3][5] = {{-0.4100235 ,  0.4793676 , -0.01442659,  0.7790407 , -0.58525103},\n",
    "        { 0.06853658,  0.59284264,  0.75364965, -0.42056793, -0.7062055 },\n",
    "        { 0.39540118,  0.46259648, -0.2965532 , -0.85764015, -0.45471957}};\n",
    "\n",
    "float bias_2[5] = { 0.0306683,  0.0515581,  0.0409896, -0.052255 ,  0.035845 };\n",
    "\n",
    "void calculate_layer(float input[], float output[], float *weights, float *bias, int dim_input, int dim_output) {\n",
    "  for (int i=0; i< dim_output; i++) {\n",
    "      float result = 0.0;\n",
    "      for(int k = 0; k < dim_input; k++) {\n",
    "          result +=   input[k] * weights[k*dim_output + i];\n",
    "      }\n",
    "      \n",
    "      output[i] = result + bias[i];\n",
    "  }\n",
    "  return;\n",
    "}\n",
    "\n",
    "void relu(float input[], int dim_input) {\n",
    "    for (int i=0; i< dim_input; i++) {\n",
    "        input[i] = (input[i] < 0) ? 0 : input[i];\n",
    "    }\n",
    "}\n",
    "\n",
    "void softmax(float input[], int dim_input) {\n",
    "    float maxv = input[0];\n",
    "    for (int i=1; i< dim_input; i++) {\n",
    "        maxv = (input[i]>maxv) ? input[i] : maxv;\n",
    "    }\n",
    "//    Serial.print(\"MAX: \"); Serial.print(maxv);\n",
    "    for (int i = 0; i < dim_input; i++) {\n",
    "        input[i] = exp(input[i]-maxv);\n",
    "    }\n",
    "    float divv = 0;\n",
    "    for (int i = 0; i < dim_input; i++) {\n",
    "        divv += input[i];\n",
    "    }\n",
    "//    Serial.print(\" DIV: \"); Serial.print(divv);\n",
    "    for (int i = 0; i < dim_input; i++) {\n",
    "        input[i] = input[i]/divv;\n",
    "    }\n",
    "}\n",
    "\n",
    "float layer1_output[3];\n",
    "float output[5];\n",
    "\n",
    "unsigned char decoder[5] = { '*', 'D', 'L', 'R', 'U' };\n",
    "\n",
    "\n",
    "int argmax(float input[],int dim) {\n",
    "  int max_i = 0;\n",
    "  float max_v = input[0];\n",
    "  for(int i=1;i<dim;i++) {\n",
    "    if(input[i]>max_v) {\n",
    "      max_i = i;\n",
    "      max_v = input[i];\n",
    "    }\n",
    "  }\n",
    "  return max_i;\n",
    "}\n",
    "\n",
    "unsigned char model_predict(float *input) {\n",
    "//    Serial.println(); Serial.print(\"INPUT: \"); \n",
    "//    for(int i=0;i<5;i++) {\n",
    "//      Serial.print(input[i]); Serial.print(\", \"); \n",
    "//    }\n",
    "\n",
    "    calculate_layer(input, layer1_output, &weight_1[0][0], &bias_1[0], 6, 3);\n",
    "    relu(layer1_output, 3);\n",
    "    calculate_layer(layer1_output,output ,&weight_2[0][0],&bias_2[0], 3, 5);\n",
    "\n",
    "//    Serial.println(); Serial.print(\"MODEL: \"); \n",
    "//    for(int i=0;i<5;i++) {\n",
    "//      Serial.print(output[i]); Serial.print(\", \"); \n",
    "//    }\n",
    "//    \n",
    "    softmax(output,5);\n",
    "//    Serial.print(\" = \"); Serial.print(argmax(output,5));\n",
    "    return decoder[argmax(output,5)];\n",
    "}\n",
    "\n",
    "\n",
    "int main()\n",
    "{\n",
    "    float input[6] = { 1. , 1.,0., 33.,  0.,  0. };\n",
    "    // float input[6] = {1.00\t,1.00,\t1.00,\t100.00,\t00\t, 00 };\n",
    "    \n",
    "    calculate_layer(input, layer1_output, &weight_1[0][0], &bias_1[0], 6, 3);\n",
    "    relu(layer1_output, 3);\n",
    "    \n",
    "    std::cout << \"1st layer: \";\n",
    "    for(int i=0;i<3;i++) {\n",
    "        std::cout << layer1_output[i] << \" \";\n",
    "    }\n",
    "    std::cout << \"\\n\";\n",
    "    \n",
    "    \n",
    "    calculate_layer(layer1_output,output ,&weight_2[0][0],&bias_2[0], 3, 5);\n",
    "    \n",
    "    std::cout << \"2nd layer: \";\n",
    "    for(int i=0;i<5;i++) {\n",
    "        std::cout << output[i] << \" \";\n",
    "    }\n",
    "    std::cout << \"\\n\";\n",
    "    \n",
    "    softmax(output,5);\n",
    "    \n",
    "    std::cout << \"Softmax: \";\n",
    "    for(int i=0;i<5;i++) {\n",
    "        std::cout << output[i] << \" \";\n",
    "    }\n",
    "    std::cout << \"\\n\";\n",
    "\n",
    "    std::cout << \"Argmax: \" << argmax(output,5) << \" = '\" << decoder[argmax(output,5)] << \"'\\n\";\n",
    "\n",
    "    std::cout << model_predict(input) << \"\\n\";\n",
    "\n",
    "}\n",
    "\n",
    "\n",
    "\n",
    "```\n",
    "\n",
    "\n",
    "## Output\n",
    "\n",
    "```shelll\n",
    "1st layer: 24.6334 0 0 \n",
    "2nd layer: -10.0696 11.86 -0.314387 19.1382 -14.3809 \n",
    "Softmax: 2.06497e-13 0.000689978 3.56087e-09 0.99931 2.77044e-15 \n",
    "Argmax: 3 = 'R'\n",
    "R\n",
    "```"
   ]
  },
  {
   "cell_type": "code",
   "execution_count": null,
   "metadata": {},
   "outputs": [],
   "source": []
  }
 ],
 "metadata": {
  "kernelspec": {
   "display_name": "Python 3",
   "language": "python",
   "name": "python3"
  },
  "language_info": {
   "codemirror_mode": {
    "name": "ipython",
    "version": 3
   },
   "file_extension": ".py",
   "mimetype": "text/x-python",
   "name": "python",
   "nbconvert_exporter": "python",
   "pygments_lexer": "ipython3",
   "version": "3.6.10"
  }
 },
 "nbformat": 4,
 "nbformat_minor": 4
}
