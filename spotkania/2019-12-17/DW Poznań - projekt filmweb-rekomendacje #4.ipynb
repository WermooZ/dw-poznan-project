{
  "nbformat": 4,
  "nbformat_minor": 0,
  "metadata": {
    "colab": {
      "name": "07. Recommendation Systems - METRICS - 02.ipynb",
      "provenance": [],
      "collapsed_sections": [],
      "toc_visible": true,
      "machine_shape": "hm"
    },
    "kernelspec": {
      "name": "python3",
      "display_name": "Python 3"
    },
    "accelerator": "GPU",
    "widgets": {
      "application/vnd.jupyter.widget-state+json": {
        "27fd191360c04896bbe9ac9e844dd437": {
          "model_module": "@jupyter-widgets/controls",
          "model_name": "HBoxModel",
          "state": {
            "_view_name": "HBoxView",
            "_dom_classes": [],
            "_model_name": "HBoxModel",
            "_view_module": "@jupyter-widgets/controls",
            "_model_module_version": "1.5.0",
            "_view_count": null,
            "_view_module_version": "1.5.0",
            "box_style": "",
            "layout": "IPY_MODEL_f05885c391cc49739eba995c8da83579",
            "_model_module": "@jupyter-widgets/controls",
            "children": [
              "IPY_MODEL_7e17272aa0c24f3a8751d96755cbc86b",
              "IPY_MODEL_8e99cde97c3e4900b05b566b1c70de09"
            ]
          }
        },
        "f05885c391cc49739eba995c8da83579": {
          "model_module": "@jupyter-widgets/base",
          "model_name": "LayoutModel",
          "state": {
            "_view_name": "LayoutView",
            "grid_template_rows": null,
            "right": null,
            "justify_content": null,
            "_view_module": "@jupyter-widgets/base",
            "overflow": null,
            "_model_module_version": "1.2.0",
            "_view_count": null,
            "flex_flow": null,
            "width": null,
            "min_width": null,
            "border": null,
            "align_items": null,
            "bottom": null,
            "_model_module": "@jupyter-widgets/base",
            "top": null,
            "grid_column": null,
            "overflow_y": null,
            "overflow_x": null,
            "grid_auto_flow": null,
            "grid_area": null,
            "grid_template_columns": null,
            "flex": null,
            "_model_name": "LayoutModel",
            "justify_items": null,
            "grid_row": null,
            "max_height": null,
            "align_content": null,
            "visibility": null,
            "align_self": null,
            "height": null,
            "min_height": null,
            "padding": null,
            "grid_auto_rows": null,
            "grid_gap": null,
            "max_width": null,
            "order": null,
            "_view_module_version": "1.2.0",
            "grid_template_areas": null,
            "object_position": null,
            "object_fit": null,
            "grid_auto_columns": null,
            "margin": null,
            "display": null,
            "left": null
          }
        },
        "7e17272aa0c24f3a8751d96755cbc86b": {
          "model_module": "@jupyter-widgets/controls",
          "model_name": "IntProgressModel",
          "state": {
            "_view_name": "ProgressView",
            "style": "IPY_MODEL_3bdf2185a2b044a59774dd34550b2bbc",
            "_dom_classes": [],
            "description": "",
            "_model_name": "IntProgressModel",
            "bar_style": "success",
            "max": 8975,
            "_view_module": "@jupyter-widgets/controls",
            "_model_module_version": "1.5.0",
            "value": 8975,
            "_view_count": null,
            "_view_module_version": "1.5.0",
            "orientation": "horizontal",
            "min": 0,
            "description_tooltip": null,
            "_model_module": "@jupyter-widgets/controls",
            "layout": "IPY_MODEL_b275fd1fe2804faf8b00f89e0179a7d8"
          }
        },
        "8e99cde97c3e4900b05b566b1c70de09": {
          "model_module": "@jupyter-widgets/controls",
          "model_name": "HTMLModel",
          "state": {
            "_view_name": "HTMLView",
            "style": "IPY_MODEL_aac1a7c1bbe448ed858ab7ec3ed60da1",
            "_dom_classes": [],
            "description": "",
            "_model_name": "HTMLModel",
            "placeholder": "​",
            "_view_module": "@jupyter-widgets/controls",
            "_model_module_version": "1.5.0",
            "value": "100% 8975/8975 [11:55&lt;00:00, 12.55it/s]",
            "_view_count": null,
            "_view_module_version": "1.5.0",
            "description_tooltip": null,
            "_model_module": "@jupyter-widgets/controls",
            "layout": "IPY_MODEL_63458c0690b24125bd6f4bc5b3a7daca"
          }
        },
        "3bdf2185a2b044a59774dd34550b2bbc": {
          "model_module": "@jupyter-widgets/controls",
          "model_name": "ProgressStyleModel",
          "state": {
            "_view_name": "StyleView",
            "_model_name": "ProgressStyleModel",
            "description_width": "",
            "_view_module": "@jupyter-widgets/base",
            "_model_module_version": "1.5.0",
            "_view_count": null,
            "_view_module_version": "1.2.0",
            "bar_color": null,
            "_model_module": "@jupyter-widgets/controls"
          }
        },
        "b275fd1fe2804faf8b00f89e0179a7d8": {
          "model_module": "@jupyter-widgets/base",
          "model_name": "LayoutModel",
          "state": {
            "_view_name": "LayoutView",
            "grid_template_rows": null,
            "right": null,
            "justify_content": null,
            "_view_module": "@jupyter-widgets/base",
            "overflow": null,
            "_model_module_version": "1.2.0",
            "_view_count": null,
            "flex_flow": null,
            "width": null,
            "min_width": null,
            "border": null,
            "align_items": null,
            "bottom": null,
            "_model_module": "@jupyter-widgets/base",
            "top": null,
            "grid_column": null,
            "overflow_y": null,
            "overflow_x": null,
            "grid_auto_flow": null,
            "grid_area": null,
            "grid_template_columns": null,
            "flex": null,
            "_model_name": "LayoutModel",
            "justify_items": null,
            "grid_row": null,
            "max_height": null,
            "align_content": null,
            "visibility": null,
            "align_self": null,
            "height": null,
            "min_height": null,
            "padding": null,
            "grid_auto_rows": null,
            "grid_gap": null,
            "max_width": null,
            "order": null,
            "_view_module_version": "1.2.0",
            "grid_template_areas": null,
            "object_position": null,
            "object_fit": null,
            "grid_auto_columns": null,
            "margin": null,
            "display": null,
            "left": null
          }
        },
        "aac1a7c1bbe448ed858ab7ec3ed60da1": {
          "model_module": "@jupyter-widgets/controls",
          "model_name": "DescriptionStyleModel",
          "state": {
            "_view_name": "StyleView",
            "_model_name": "DescriptionStyleModel",
            "description_width": "",
            "_view_module": "@jupyter-widgets/base",
            "_model_module_version": "1.5.0",
            "_view_count": null,
            "_view_module_version": "1.2.0",
            "_model_module": "@jupyter-widgets/controls"
          }
        },
        "63458c0690b24125bd6f4bc5b3a7daca": {
          "model_module": "@jupyter-widgets/base",
          "model_name": "LayoutModel",
          "state": {
            "_view_name": "LayoutView",
            "grid_template_rows": null,
            "right": null,
            "justify_content": null,
            "_view_module": "@jupyter-widgets/base",
            "overflow": null,
            "_model_module_version": "1.2.0",
            "_view_count": null,
            "flex_flow": null,
            "width": null,
            "min_width": null,
            "border": null,
            "align_items": null,
            "bottom": null,
            "_model_module": "@jupyter-widgets/base",
            "top": null,
            "grid_column": null,
            "overflow_y": null,
            "overflow_x": null,
            "grid_auto_flow": null,
            "grid_area": null,
            "grid_template_columns": null,
            "flex": null,
            "_model_name": "LayoutModel",
            "justify_items": null,
            "grid_row": null,
            "max_height": null,
            "align_content": null,
            "visibility": null,
            "align_self": null,
            "height": null,
            "min_height": null,
            "padding": null,
            "grid_auto_rows": null,
            "grid_gap": null,
            "max_width": null,
            "order": null,
            "_view_module_version": "1.2.0",
            "grid_template_areas": null,
            "object_position": null,
            "object_fit": null,
            "grid_auto_columns": null,
            "margin": null,
            "display": null,
            "left": null
          }
        },
        "a8e8eacb0a694833818752c436fa37f3": {
          "model_module": "@jupyter-widgets/controls",
          "model_name": "HBoxModel",
          "state": {
            "_view_name": "HBoxView",
            "_dom_classes": [],
            "_model_name": "HBoxModel",
            "_view_module": "@jupyter-widgets/controls",
            "_model_module_version": "1.5.0",
            "_view_count": null,
            "_view_module_version": "1.5.0",
            "box_style": "",
            "layout": "IPY_MODEL_7b40070c334849a1979e0df9fcabd511",
            "_model_module": "@jupyter-widgets/controls",
            "children": [
              "IPY_MODEL_d3a09b26b8694a7b9bb745c8ce7a96c1",
              "IPY_MODEL_266ddd10d28e432abf43965821850822"
            ]
          }
        },
        "7b40070c334849a1979e0df9fcabd511": {
          "model_module": "@jupyter-widgets/base",
          "model_name": "LayoutModel",
          "state": {
            "_view_name": "LayoutView",
            "grid_template_rows": null,
            "right": null,
            "justify_content": null,
            "_view_module": "@jupyter-widgets/base",
            "overflow": null,
            "_model_module_version": "1.2.0",
            "_view_count": null,
            "flex_flow": null,
            "width": null,
            "min_width": null,
            "border": null,
            "align_items": null,
            "bottom": null,
            "_model_module": "@jupyter-widgets/base",
            "top": null,
            "grid_column": null,
            "overflow_y": null,
            "overflow_x": null,
            "grid_auto_flow": null,
            "grid_area": null,
            "grid_template_columns": null,
            "flex": null,
            "_model_name": "LayoutModel",
            "justify_items": null,
            "grid_row": null,
            "max_height": null,
            "align_content": null,
            "visibility": null,
            "align_self": null,
            "height": null,
            "min_height": null,
            "padding": null,
            "grid_auto_rows": null,
            "grid_gap": null,
            "max_width": null,
            "order": null,
            "_view_module_version": "1.2.0",
            "grid_template_areas": null,
            "object_position": null,
            "object_fit": null,
            "grid_auto_columns": null,
            "margin": null,
            "display": null,
            "left": null
          }
        },
        "d3a09b26b8694a7b9bb745c8ce7a96c1": {
          "model_module": "@jupyter-widgets/controls",
          "model_name": "IntProgressModel",
          "state": {
            "_view_name": "ProgressView",
            "style": "IPY_MODEL_10104563431d446f987436de5c39896b",
            "_dom_classes": [],
            "description": "",
            "_model_name": "IntProgressModel",
            "bar_style": "success",
            "max": 8996,
            "_view_module": "@jupyter-widgets/controls",
            "_model_module_version": "1.5.0",
            "value": 8996,
            "_view_count": null,
            "_view_module_version": "1.5.0",
            "orientation": "horizontal",
            "min": 0,
            "description_tooltip": null,
            "_model_module": "@jupyter-widgets/controls",
            "layout": "IPY_MODEL_389790ad36a14e99820a6cc71e4f5b1b"
          }
        },
        "266ddd10d28e432abf43965821850822": {
          "model_module": "@jupyter-widgets/controls",
          "model_name": "HTMLModel",
          "state": {
            "_view_name": "HTMLView",
            "style": "IPY_MODEL_dd38d447222c482991154ad69d904df1",
            "_dom_classes": [],
            "description": "",
            "_model_name": "HTMLModel",
            "placeholder": "​",
            "_view_module": "@jupyter-widgets/controls",
            "_model_module_version": "1.5.0",
            "value": "100% 8996/8996 [12:19&lt;00:00, 12.16it/s]",
            "_view_count": null,
            "_view_module_version": "1.5.0",
            "description_tooltip": null,
            "_model_module": "@jupyter-widgets/controls",
            "layout": "IPY_MODEL_35cb9288a51b41a687d7e94e6fac1283"
          }
        },
        "10104563431d446f987436de5c39896b": {
          "model_module": "@jupyter-widgets/controls",
          "model_name": "ProgressStyleModel",
          "state": {
            "_view_name": "StyleView",
            "_model_name": "ProgressStyleModel",
            "description_width": "",
            "_view_module": "@jupyter-widgets/base",
            "_model_module_version": "1.5.0",
            "_view_count": null,
            "_view_module_version": "1.2.0",
            "bar_color": null,
            "_model_module": "@jupyter-widgets/controls"
          }
        },
        "389790ad36a14e99820a6cc71e4f5b1b": {
          "model_module": "@jupyter-widgets/base",
          "model_name": "LayoutModel",
          "state": {
            "_view_name": "LayoutView",
            "grid_template_rows": null,
            "right": null,
            "justify_content": null,
            "_view_module": "@jupyter-widgets/base",
            "overflow": null,
            "_model_module_version": "1.2.0",
            "_view_count": null,
            "flex_flow": null,
            "width": null,
            "min_width": null,
            "border": null,
            "align_items": null,
            "bottom": null,
            "_model_module": "@jupyter-widgets/base",
            "top": null,
            "grid_column": null,
            "overflow_y": null,
            "overflow_x": null,
            "grid_auto_flow": null,
            "grid_area": null,
            "grid_template_columns": null,
            "flex": null,
            "_model_name": "LayoutModel",
            "justify_items": null,
            "grid_row": null,
            "max_height": null,
            "align_content": null,
            "visibility": null,
            "align_self": null,
            "height": null,
            "min_height": null,
            "padding": null,
            "grid_auto_rows": null,
            "grid_gap": null,
            "max_width": null,
            "order": null,
            "_view_module_version": "1.2.0",
            "grid_template_areas": null,
            "object_position": null,
            "object_fit": null,
            "grid_auto_columns": null,
            "margin": null,
            "display": null,
            "left": null
          }
        },
        "dd38d447222c482991154ad69d904df1": {
          "model_module": "@jupyter-widgets/controls",
          "model_name": "DescriptionStyleModel",
          "state": {
            "_view_name": "StyleView",
            "_model_name": "DescriptionStyleModel",
            "description_width": "",
            "_view_module": "@jupyter-widgets/base",
            "_model_module_version": "1.5.0",
            "_view_count": null,
            "_view_module_version": "1.2.0",
            "_model_module": "@jupyter-widgets/controls"
          }
        },
        "35cb9288a51b41a687d7e94e6fac1283": {
          "model_module": "@jupyter-widgets/base",
          "model_name": "LayoutModel",
          "state": {
            "_view_name": "LayoutView",
            "grid_template_rows": null,
            "right": null,
            "justify_content": null,
            "_view_module": "@jupyter-widgets/base",
            "overflow": null,
            "_model_module_version": "1.2.0",
            "_view_count": null,
            "flex_flow": null,
            "width": null,
            "min_width": null,
            "border": null,
            "align_items": null,
            "bottom": null,
            "_model_module": "@jupyter-widgets/base",
            "top": null,
            "grid_column": null,
            "overflow_y": null,
            "overflow_x": null,
            "grid_auto_flow": null,
            "grid_area": null,
            "grid_template_columns": null,
            "flex": null,
            "_model_name": "LayoutModel",
            "justify_items": null,
            "grid_row": null,
            "max_height": null,
            "align_content": null,
            "visibility": null,
            "align_self": null,
            "height": null,
            "min_height": null,
            "padding": null,
            "grid_auto_rows": null,
            "grid_gap": null,
            "max_width": null,
            "order": null,
            "_view_module_version": "1.2.0",
            "grid_template_areas": null,
            "object_position": null,
            "object_fit": null,
            "grid_auto_columns": null,
            "margin": null,
            "display": null,
            "left": null
          }
        },
        "d90178afe9e544caa691fd4cae04d743": {
          "model_module": "@jupyter-widgets/controls",
          "model_name": "HBoxModel",
          "state": {
            "_view_name": "HBoxView",
            "_dom_classes": [],
            "_model_name": "HBoxModel",
            "_view_module": "@jupyter-widgets/controls",
            "_model_module_version": "1.5.0",
            "_view_count": null,
            "_view_module_version": "1.5.0",
            "box_style": "",
            "layout": "IPY_MODEL_146a23f654a747e79ac1ade95e0a0857",
            "_model_module": "@jupyter-widgets/controls",
            "children": [
              "IPY_MODEL_06cb39a7c6d543ddb73dd171850e8ce7",
              "IPY_MODEL_3ddf29cf7c824cf388be67fa8800d566"
            ]
          }
        },
        "146a23f654a747e79ac1ade95e0a0857": {
          "model_module": "@jupyter-widgets/base",
          "model_name": "LayoutModel",
          "state": {
            "_view_name": "LayoutView",
            "grid_template_rows": null,
            "right": null,
            "justify_content": null,
            "_view_module": "@jupyter-widgets/base",
            "overflow": null,
            "_model_module_version": "1.2.0",
            "_view_count": null,
            "flex_flow": null,
            "width": null,
            "min_width": null,
            "border": null,
            "align_items": null,
            "bottom": null,
            "_model_module": "@jupyter-widgets/base",
            "top": null,
            "grid_column": null,
            "overflow_y": null,
            "overflow_x": null,
            "grid_auto_flow": null,
            "grid_area": null,
            "grid_template_columns": null,
            "flex": null,
            "_model_name": "LayoutModel",
            "justify_items": null,
            "grid_row": null,
            "max_height": null,
            "align_content": null,
            "visibility": null,
            "align_self": null,
            "height": null,
            "min_height": null,
            "padding": null,
            "grid_auto_rows": null,
            "grid_gap": null,
            "max_width": null,
            "order": null,
            "_view_module_version": "1.2.0",
            "grid_template_areas": null,
            "object_position": null,
            "object_fit": null,
            "grid_auto_columns": null,
            "margin": null,
            "display": null,
            "left": null
          }
        },
        "06cb39a7c6d543ddb73dd171850e8ce7": {
          "model_module": "@jupyter-widgets/controls",
          "model_name": "IntProgressModel",
          "state": {
            "_view_name": "ProgressView",
            "style": "IPY_MODEL_d503137c68e4452fb9e2677623b52b6c",
            "_dom_classes": [],
            "description": "",
            "_model_name": "IntProgressModel",
            "bar_style": "success",
            "max": 8947,
            "_view_module": "@jupyter-widgets/controls",
            "_model_module_version": "1.5.0",
            "value": 8947,
            "_view_count": null,
            "_view_module_version": "1.5.0",
            "orientation": "horizontal",
            "min": 0,
            "description_tooltip": null,
            "_model_module": "@jupyter-widgets/controls",
            "layout": "IPY_MODEL_382ed1492c814146a125d3fa673d1d0e"
          }
        },
        "3ddf29cf7c824cf388be67fa8800d566": {
          "model_module": "@jupyter-widgets/controls",
          "model_name": "HTMLModel",
          "state": {
            "_view_name": "HTMLView",
            "style": "IPY_MODEL_99b250cca41d4545a8a575ea5f1082f7",
            "_dom_classes": [],
            "description": "",
            "_model_name": "HTMLModel",
            "placeholder": "​",
            "_view_module": "@jupyter-widgets/controls",
            "_model_module_version": "1.5.0",
            "value": "100% 8947/8947 [12:05&lt;00:00, 12.33it/s]",
            "_view_count": null,
            "_view_module_version": "1.5.0",
            "description_tooltip": null,
            "_model_module": "@jupyter-widgets/controls",
            "layout": "IPY_MODEL_9e0bd20b2aa44c2b86957699d1682033"
          }
        },
        "d503137c68e4452fb9e2677623b52b6c": {
          "model_module": "@jupyter-widgets/controls",
          "model_name": "ProgressStyleModel",
          "state": {
            "_view_name": "StyleView",
            "_model_name": "ProgressStyleModel",
            "description_width": "",
            "_view_module": "@jupyter-widgets/base",
            "_model_module_version": "1.5.0",
            "_view_count": null,
            "_view_module_version": "1.2.0",
            "bar_color": null,
            "_model_module": "@jupyter-widgets/controls"
          }
        },
        "382ed1492c814146a125d3fa673d1d0e": {
          "model_module": "@jupyter-widgets/base",
          "model_name": "LayoutModel",
          "state": {
            "_view_name": "LayoutView",
            "grid_template_rows": null,
            "right": null,
            "justify_content": null,
            "_view_module": "@jupyter-widgets/base",
            "overflow": null,
            "_model_module_version": "1.2.0",
            "_view_count": null,
            "flex_flow": null,
            "width": null,
            "min_width": null,
            "border": null,
            "align_items": null,
            "bottom": null,
            "_model_module": "@jupyter-widgets/base",
            "top": null,
            "grid_column": null,
            "overflow_y": null,
            "overflow_x": null,
            "grid_auto_flow": null,
            "grid_area": null,
            "grid_template_columns": null,
            "flex": null,
            "_model_name": "LayoutModel",
            "justify_items": null,
            "grid_row": null,
            "max_height": null,
            "align_content": null,
            "visibility": null,
            "align_self": null,
            "height": null,
            "min_height": null,
            "padding": null,
            "grid_auto_rows": null,
            "grid_gap": null,
            "max_width": null,
            "order": null,
            "_view_module_version": "1.2.0",
            "grid_template_areas": null,
            "object_position": null,
            "object_fit": null,
            "grid_auto_columns": null,
            "margin": null,
            "display": null,
            "left": null
          }
        },
        "99b250cca41d4545a8a575ea5f1082f7": {
          "model_module": "@jupyter-widgets/controls",
          "model_name": "DescriptionStyleModel",
          "state": {
            "_view_name": "StyleView",
            "_model_name": "DescriptionStyleModel",
            "description_width": "",
            "_view_module": "@jupyter-widgets/base",
            "_model_module_version": "1.5.0",
            "_view_count": null,
            "_view_module_version": "1.2.0",
            "_model_module": "@jupyter-widgets/controls"
          }
        },
        "9e0bd20b2aa44c2b86957699d1682033": {
          "model_module": "@jupyter-widgets/base",
          "model_name": "LayoutModel",
          "state": {
            "_view_name": "LayoutView",
            "grid_template_rows": null,
            "right": null,
            "justify_content": null,
            "_view_module": "@jupyter-widgets/base",
            "overflow": null,
            "_model_module_version": "1.2.0",
            "_view_count": null,
            "flex_flow": null,
            "width": null,
            "min_width": null,
            "border": null,
            "align_items": null,
            "bottom": null,
            "_model_module": "@jupyter-widgets/base",
            "top": null,
            "grid_column": null,
            "overflow_y": null,
            "overflow_x": null,
            "grid_auto_flow": null,
            "grid_area": null,
            "grid_template_columns": null,
            "flex": null,
            "_model_name": "LayoutModel",
            "justify_items": null,
            "grid_row": null,
            "max_height": null,
            "align_content": null,
            "visibility": null,
            "align_self": null,
            "height": null,
            "min_height": null,
            "padding": null,
            "grid_auto_rows": null,
            "grid_gap": null,
            "max_width": null,
            "order": null,
            "_view_module_version": "1.2.0",
            "grid_template_areas": null,
            "object_position": null,
            "object_fit": null,
            "grid_auto_columns": null,
            "margin": null,
            "display": null,
            "left": null
          }
        },
        "2ffbe6408936405ea578483f4fdeaa94": {
          "model_module": "@jupyter-widgets/controls",
          "model_name": "HBoxModel",
          "state": {
            "_view_name": "HBoxView",
            "_dom_classes": [],
            "_model_name": "HBoxModel",
            "_view_module": "@jupyter-widgets/controls",
            "_model_module_version": "1.5.0",
            "_view_count": null,
            "_view_module_version": "1.5.0",
            "box_style": "",
            "layout": "IPY_MODEL_c9d032063a8140259d00edd6bc80cb98",
            "_model_module": "@jupyter-widgets/controls",
            "children": [
              "IPY_MODEL_832f7cae1e74444d841eca5fb3717c13",
              "IPY_MODEL_a1798f5247ad4d1582f2d4615907b9a1"
            ]
          }
        },
        "c9d032063a8140259d00edd6bc80cb98": {
          "model_module": "@jupyter-widgets/base",
          "model_name": "LayoutModel",
          "state": {
            "_view_name": "LayoutView",
            "grid_template_rows": null,
            "right": null,
            "justify_content": null,
            "_view_module": "@jupyter-widgets/base",
            "overflow": null,
            "_model_module_version": "1.2.0",
            "_view_count": null,
            "flex_flow": null,
            "width": null,
            "min_width": null,
            "border": null,
            "align_items": null,
            "bottom": null,
            "_model_module": "@jupyter-widgets/base",
            "top": null,
            "grid_column": null,
            "overflow_y": null,
            "overflow_x": null,
            "grid_auto_flow": null,
            "grid_area": null,
            "grid_template_columns": null,
            "flex": null,
            "_model_name": "LayoutModel",
            "justify_items": null,
            "grid_row": null,
            "max_height": null,
            "align_content": null,
            "visibility": null,
            "align_self": null,
            "height": null,
            "min_height": null,
            "padding": null,
            "grid_auto_rows": null,
            "grid_gap": null,
            "max_width": null,
            "order": null,
            "_view_module_version": "1.2.0",
            "grid_template_areas": null,
            "object_position": null,
            "object_fit": null,
            "grid_auto_columns": null,
            "margin": null,
            "display": null,
            "left": null
          }
        },
        "832f7cae1e74444d841eca5fb3717c13": {
          "model_module": "@jupyter-widgets/controls",
          "model_name": "IntProgressModel",
          "state": {
            "_view_name": "ProgressView",
            "style": "IPY_MODEL_778bc0e6a78e46dfbff4844fc8b3e9d3",
            "_dom_classes": [],
            "description": "",
            "_model_name": "IntProgressModel",
            "bar_style": "success",
            "max": 8973,
            "_view_module": "@jupyter-widgets/controls",
            "_model_module_version": "1.5.0",
            "value": 8973,
            "_view_count": null,
            "_view_module_version": "1.5.0",
            "orientation": "horizontal",
            "min": 0,
            "description_tooltip": null,
            "_model_module": "@jupyter-widgets/controls",
            "layout": "IPY_MODEL_11dfc3dffc6d4d0abface05b76926d3f"
          }
        },
        "a1798f5247ad4d1582f2d4615907b9a1": {
          "model_module": "@jupyter-widgets/controls",
          "model_name": "HTMLModel",
          "state": {
            "_view_name": "HTMLView",
            "style": "IPY_MODEL_c79829466d3b41c1abfc08826403ed87",
            "_dom_classes": [],
            "description": "",
            "_model_name": "HTMLModel",
            "placeholder": "​",
            "_view_module": "@jupyter-widgets/controls",
            "_model_module_version": "1.5.0",
            "value": "100% 8973/8973 [12:28&lt;00:00, 11.99it/s]",
            "_view_count": null,
            "_view_module_version": "1.5.0",
            "description_tooltip": null,
            "_model_module": "@jupyter-widgets/controls",
            "layout": "IPY_MODEL_b898efa3f4054e9fb89d8fdb8cc5a4fb"
          }
        },
        "778bc0e6a78e46dfbff4844fc8b3e9d3": {
          "model_module": "@jupyter-widgets/controls",
          "model_name": "ProgressStyleModel",
          "state": {
            "_view_name": "StyleView",
            "_model_name": "ProgressStyleModel",
            "description_width": "",
            "_view_module": "@jupyter-widgets/base",
            "_model_module_version": "1.5.0",
            "_view_count": null,
            "_view_module_version": "1.2.0",
            "bar_color": null,
            "_model_module": "@jupyter-widgets/controls"
          }
        },
        "11dfc3dffc6d4d0abface05b76926d3f": {
          "model_module": "@jupyter-widgets/base",
          "model_name": "LayoutModel",
          "state": {
            "_view_name": "LayoutView",
            "grid_template_rows": null,
            "right": null,
            "justify_content": null,
            "_view_module": "@jupyter-widgets/base",
            "overflow": null,
            "_model_module_version": "1.2.0",
            "_view_count": null,
            "flex_flow": null,
            "width": null,
            "min_width": null,
            "border": null,
            "align_items": null,
            "bottom": null,
            "_model_module": "@jupyter-widgets/base",
            "top": null,
            "grid_column": null,
            "overflow_y": null,
            "overflow_x": null,
            "grid_auto_flow": null,
            "grid_area": null,
            "grid_template_columns": null,
            "flex": null,
            "_model_name": "LayoutModel",
            "justify_items": null,
            "grid_row": null,
            "max_height": null,
            "align_content": null,
            "visibility": null,
            "align_self": null,
            "height": null,
            "min_height": null,
            "padding": null,
            "grid_auto_rows": null,
            "grid_gap": null,
            "max_width": null,
            "order": null,
            "_view_module_version": "1.2.0",
            "grid_template_areas": null,
            "object_position": null,
            "object_fit": null,
            "grid_auto_columns": null,
            "margin": null,
            "display": null,
            "left": null
          }
        },
        "c79829466d3b41c1abfc08826403ed87": {
          "model_module": "@jupyter-widgets/controls",
          "model_name": "DescriptionStyleModel",
          "state": {
            "_view_name": "StyleView",
            "_model_name": "DescriptionStyleModel",
            "description_width": "",
            "_view_module": "@jupyter-widgets/base",
            "_model_module_version": "1.5.0",
            "_view_count": null,
            "_view_module_version": "1.2.0",
            "_model_module": "@jupyter-widgets/controls"
          }
        },
        "b898efa3f4054e9fb89d8fdb8cc5a4fb": {
          "model_module": "@jupyter-widgets/base",
          "model_name": "LayoutModel",
          "state": {
            "_view_name": "LayoutView",
            "grid_template_rows": null,
            "right": null,
            "justify_content": null,
            "_view_module": "@jupyter-widgets/base",
            "overflow": null,
            "_model_module_version": "1.2.0",
            "_view_count": null,
            "flex_flow": null,
            "width": null,
            "min_width": null,
            "border": null,
            "align_items": null,
            "bottom": null,
            "_model_module": "@jupyter-widgets/base",
            "top": null,
            "grid_column": null,
            "overflow_y": null,
            "overflow_x": null,
            "grid_auto_flow": null,
            "grid_area": null,
            "grid_template_columns": null,
            "flex": null,
            "_model_name": "LayoutModel",
            "justify_items": null,
            "grid_row": null,
            "max_height": null,
            "align_content": null,
            "visibility": null,
            "align_self": null,
            "height": null,
            "min_height": null,
            "padding": null,
            "grid_auto_rows": null,
            "grid_gap": null,
            "max_width": null,
            "order": null,
            "_view_module_version": "1.2.0",
            "grid_template_areas": null,
            "object_position": null,
            "object_fit": null,
            "grid_auto_columns": null,
            "margin": null,
            "display": null,
            "left": null
          }
        },
        "01c5456c9cd742e9af83e59067ae3bb7": {
          "model_module": "@jupyter-widgets/controls",
          "model_name": "HBoxModel",
          "state": {
            "_view_name": "HBoxView",
            "_dom_classes": [],
            "_model_name": "HBoxModel",
            "_view_module": "@jupyter-widgets/controls",
            "_model_module_version": "1.5.0",
            "_view_count": null,
            "_view_module_version": "1.5.0",
            "box_style": "",
            "layout": "IPY_MODEL_e098ee47d0c64981b6c355e531223238",
            "_model_module": "@jupyter-widgets/controls",
            "children": [
              "IPY_MODEL_f399924c03f1477faa35b5a09ada75e7",
              "IPY_MODEL_25d9676ab220496bbce97c02cc5cf0c1"
            ]
          }
        },
        "e098ee47d0c64981b6c355e531223238": {
          "model_module": "@jupyter-widgets/base",
          "model_name": "LayoutModel",
          "state": {
            "_view_name": "LayoutView",
            "grid_template_rows": null,
            "right": null,
            "justify_content": null,
            "_view_module": "@jupyter-widgets/base",
            "overflow": null,
            "_model_module_version": "1.2.0",
            "_view_count": null,
            "flex_flow": null,
            "width": null,
            "min_width": null,
            "border": null,
            "align_items": null,
            "bottom": null,
            "_model_module": "@jupyter-widgets/base",
            "top": null,
            "grid_column": null,
            "overflow_y": null,
            "overflow_x": null,
            "grid_auto_flow": null,
            "grid_area": null,
            "grid_template_columns": null,
            "flex": null,
            "_model_name": "LayoutModel",
            "justify_items": null,
            "grid_row": null,
            "max_height": null,
            "align_content": null,
            "visibility": null,
            "align_self": null,
            "height": null,
            "min_height": null,
            "padding": null,
            "grid_auto_rows": null,
            "grid_gap": null,
            "max_width": null,
            "order": null,
            "_view_module_version": "1.2.0",
            "grid_template_areas": null,
            "object_position": null,
            "object_fit": null,
            "grid_auto_columns": null,
            "margin": null,
            "display": null,
            "left": null
          }
        },
        "f399924c03f1477faa35b5a09ada75e7": {
          "model_module": "@jupyter-widgets/controls",
          "model_name": "IntProgressModel",
          "state": {
            "_view_name": "ProgressView",
            "style": "IPY_MODEL_cbe17f48f339467489a0ebea7b51a9a4",
            "_dom_classes": [],
            "description": "",
            "_model_name": "IntProgressModel",
            "bar_style": "success",
            "max": 8979,
            "_view_module": "@jupyter-widgets/controls",
            "_model_module_version": "1.5.0",
            "value": 8979,
            "_view_count": null,
            "_view_module_version": "1.5.0",
            "orientation": "horizontal",
            "min": 0,
            "description_tooltip": null,
            "_model_module": "@jupyter-widgets/controls",
            "layout": "IPY_MODEL_4d6e803fd8c840c89fdd86e4149e59fb"
          }
        },
        "25d9676ab220496bbce97c02cc5cf0c1": {
          "model_module": "@jupyter-widgets/controls",
          "model_name": "HTMLModel",
          "state": {
            "_view_name": "HTMLView",
            "style": "IPY_MODEL_1499decfdc7b49519e48f4495ce18d71",
            "_dom_classes": [],
            "description": "",
            "_model_name": "HTMLModel",
            "placeholder": "​",
            "_view_module": "@jupyter-widgets/controls",
            "_model_module_version": "1.5.0",
            "value": "100% 8979/8979 [11:59&lt;00:00, 12.48it/s]",
            "_view_count": null,
            "_view_module_version": "1.5.0",
            "description_tooltip": null,
            "_model_module": "@jupyter-widgets/controls",
            "layout": "IPY_MODEL_05e2919b9a1b482faf5e2d40a15d2bc3"
          }
        },
        "cbe17f48f339467489a0ebea7b51a9a4": {
          "model_module": "@jupyter-widgets/controls",
          "model_name": "ProgressStyleModel",
          "state": {
            "_view_name": "StyleView",
            "_model_name": "ProgressStyleModel",
            "description_width": "",
            "_view_module": "@jupyter-widgets/base",
            "_model_module_version": "1.5.0",
            "_view_count": null,
            "_view_module_version": "1.2.0",
            "bar_color": null,
            "_model_module": "@jupyter-widgets/controls"
          }
        },
        "4d6e803fd8c840c89fdd86e4149e59fb": {
          "model_module": "@jupyter-widgets/base",
          "model_name": "LayoutModel",
          "state": {
            "_view_name": "LayoutView",
            "grid_template_rows": null,
            "right": null,
            "justify_content": null,
            "_view_module": "@jupyter-widgets/base",
            "overflow": null,
            "_model_module_version": "1.2.0",
            "_view_count": null,
            "flex_flow": null,
            "width": null,
            "min_width": null,
            "border": null,
            "align_items": null,
            "bottom": null,
            "_model_module": "@jupyter-widgets/base",
            "top": null,
            "grid_column": null,
            "overflow_y": null,
            "overflow_x": null,
            "grid_auto_flow": null,
            "grid_area": null,
            "grid_template_columns": null,
            "flex": null,
            "_model_name": "LayoutModel",
            "justify_items": null,
            "grid_row": null,
            "max_height": null,
            "align_content": null,
            "visibility": null,
            "align_self": null,
            "height": null,
            "min_height": null,
            "padding": null,
            "grid_auto_rows": null,
            "grid_gap": null,
            "max_width": null,
            "order": null,
            "_view_module_version": "1.2.0",
            "grid_template_areas": null,
            "object_position": null,
            "object_fit": null,
            "grid_auto_columns": null,
            "margin": null,
            "display": null,
            "left": null
          }
        },
        "1499decfdc7b49519e48f4495ce18d71": {
          "model_module": "@jupyter-widgets/controls",
          "model_name": "DescriptionStyleModel",
          "state": {
            "_view_name": "StyleView",
            "_model_name": "DescriptionStyleModel",
            "description_width": "",
            "_view_module": "@jupyter-widgets/base",
            "_model_module_version": "1.5.0",
            "_view_count": null,
            "_view_module_version": "1.2.0",
            "_model_module": "@jupyter-widgets/controls"
          }
        },
        "05e2919b9a1b482faf5e2d40a15d2bc3": {
          "model_module": "@jupyter-widgets/base",
          "model_name": "LayoutModel",
          "state": {
            "_view_name": "LayoutView",
            "grid_template_rows": null,
            "right": null,
            "justify_content": null,
            "_view_module": "@jupyter-widgets/base",
            "overflow": null,
            "_model_module_version": "1.2.0",
            "_view_count": null,
            "flex_flow": null,
            "width": null,
            "min_width": null,
            "border": null,
            "align_items": null,
            "bottom": null,
            "_model_module": "@jupyter-widgets/base",
            "top": null,
            "grid_column": null,
            "overflow_y": null,
            "overflow_x": null,
            "grid_auto_flow": null,
            "grid_area": null,
            "grid_template_columns": null,
            "flex": null,
            "_model_name": "LayoutModel",
            "justify_items": null,
            "grid_row": null,
            "max_height": null,
            "align_content": null,
            "visibility": null,
            "align_self": null,
            "height": null,
            "min_height": null,
            "padding": null,
            "grid_auto_rows": null,
            "grid_gap": null,
            "max_width": null,
            "order": null,
            "_view_module_version": "1.2.0",
            "grid_template_areas": null,
            "object_position": null,
            "object_fit": null,
            "grid_auto_columns": null,
            "margin": null,
            "display": null,
            "left": null
          }
        }
      }
    }
  },
  "cells": [
    {
      "cell_type": "markdown",
      "metadata": {
        "id": "ys91noQos1y7",
        "colab_type": "text"
      },
      "source": [
        "# 07. RECOMMENDATION SYSTEM\n",
        "\n",
        "Information about each metric you can find in the code:\n",
        "\n",
        "https://colab.research.google.com/drive/1SBx6nolnsqvlQLhlLjUz8VQi7ylJsZ4x\n",
        "\n",
        "\n",
        "* Other Links\n",
        "\n",
        "https://towardsdatascience.com/prototyping-a-recommender-system-step-by-step-part-1-knn-item-based-collaborative-filtering-637969614ea"
      ]
    },
    {
      "cell_type": "code",
      "metadata": {
        "id": "GWyy6K-ps3yj",
        "colab_type": "code",
        "outputId": "556d3d7c-7761-415c-e369-557bf772758b",
        "colab": {
          "base_uri": "https://localhost:8080/",
          "height": 309
        }
      },
      "source": [
        "import pandas as pd\n",
        "import numpy as np\n",
        "import random\n",
        "\n",
        "!pip install surprise\n",
        "\n",
        "import surprise"
      ],
      "execution_count": 0,
      "outputs": [
        {
          "output_type": "stream",
          "text": [
            "Collecting surprise\n",
            "  Downloading https://files.pythonhosted.org/packages/61/de/e5cba8682201fcf9c3719a6fdda95693468ed061945493dea2dd37c5618b/surprise-0.1-py2.py3-none-any.whl\n",
            "Collecting scikit-surprise\n",
            "\u001b[?25l  Downloading https://files.pythonhosted.org/packages/f5/da/b5700d96495fb4f092be497f02492768a3d96a3f4fa2ae7dea46d4081cfa/scikit-surprise-1.1.0.tar.gz (6.4MB)\n",
            "\u001b[K     |████████████████████████████████| 6.5MB 2.7MB/s \n",
            "\u001b[?25hRequirement already satisfied: joblib>=0.11 in /usr/local/lib/python3.6/dist-packages (from scikit-surprise->surprise) (0.14.1)\n",
            "Requirement already satisfied: numpy>=1.11.2 in /usr/local/lib/python3.6/dist-packages (from scikit-surprise->surprise) (1.17.4)\n",
            "Requirement already satisfied: scipy>=1.0.0 in /usr/local/lib/python3.6/dist-packages (from scikit-surprise->surprise) (1.3.3)\n",
            "Requirement already satisfied: six>=1.10.0 in /usr/local/lib/python3.6/dist-packages (from scikit-surprise->surprise) (1.12.0)\n",
            "Building wheels for collected packages: scikit-surprise\n",
            "  Building wheel for scikit-surprise (setup.py) ... \u001b[?25l\u001b[?25hdone\n",
            "  Created wheel for scikit-surprise: filename=scikit_surprise-1.1.0-cp36-cp36m-linux_x86_64.whl size=1678270 sha256=a2f7bf18778ae5ae3c113564c4c9732ca56f8e3db338f8a1dea506b8309ac7a2\n",
            "  Stored in directory: /root/.cache/pip/wheels/cc/fa/8c/16c93fccce688ae1bde7d979ff102f7bee980d9cfeb8641bcf\n",
            "Successfully built scikit-surprise\n",
            "Installing collected packages: scikit-surprise, surprise\n",
            "Successfully installed scikit-surprise-1.1.0 surprise-0.1\n"
          ],
          "name": "stdout"
        }
      ]
    },
    {
      "cell_type": "markdown",
      "metadata": {
        "id": "zCBU8tLMtQV_",
        "colab_type": "text"
      },
      "source": [
        "## MovieLens\n",
        "\n",
        "https://movielens.org/\n",
        "\n",
        "Download Movie-Lens data to get rating from abou\n",
        "\n",
        "Small: 100,000 ratings and 3,600 tag applications applied to 9,000 movies by 600 users. Last updated 9/2018."
      ]
    },
    {
      "cell_type": "code",
      "metadata": {
        "id": "9QkQdMIys6h3",
        "colab_type": "code",
        "outputId": "6afa2dbe-e034-4c0e-f6a2-82f7bd73dd1d",
        "colab": {
          "base_uri": "https://localhost:8080/",
          "height": 374
        }
      },
      "source": [
        "!wget http://files.grouplens.org/datasets/movielens/ml-latest-small.zip\n",
        "!unzip ml-latest-small.zip\n",
        "\n",
        "!ls ./ml-latest-small/*"
      ],
      "execution_count": 0,
      "outputs": [
        {
          "output_type": "stream",
          "text": [
            "--2019-12-17 16:44:30--  http://files.grouplens.org/datasets/movielens/ml-latest-small.zip\n",
            "Resolving files.grouplens.org (files.grouplens.org)... 128.101.65.152\n",
            "Connecting to files.grouplens.org (files.grouplens.org)|128.101.65.152|:80... connected.\n",
            "HTTP request sent, awaiting response... 200 OK\n",
            "Length: 978202 (955K) [application/zip]\n",
            "Saving to: ‘ml-latest-small.zip’\n",
            "\n",
            "\rml-latest-small.zip   0%[                    ]       0  --.-KB/s               \rml-latest-small.zip   4%[                    ]  47.75K   144KB/s               \rml-latest-small.zip  23%[===>                ] 219.78K   331KB/s               \rml-latest-small.zip  93%[=================>  ] 894.29K   898KB/s               \rml-latest-small.zip 100%[===================>] 955.28K   959KB/s    in 1.0s    \n",
            "\n",
            "2019-12-17 16:44:32 (959 KB/s) - ‘ml-latest-small.zip’ saved [978202/978202]\n",
            "\n",
            "Archive:  ml-latest-small.zip\n",
            "   creating: ml-latest-small/\n",
            "  inflating: ml-latest-small/links.csv  \n",
            "  inflating: ml-latest-small/tags.csv  \n",
            "  inflating: ml-latest-small/ratings.csv  \n",
            "  inflating: ml-latest-small/README.txt  \n",
            "  inflating: ml-latest-small/movies.csv  \n",
            "./ml-latest-small/links.csv    ./ml-latest-small/README.txt\n",
            "./ml-latest-small/movies.csv   ./ml-latest-small/tags.csv\n",
            "./ml-latest-small/ratings.csv\n"
          ],
          "name": "stdout"
        }
      ]
    },
    {
      "cell_type": "code",
      "metadata": {
        "id": "om43EeOduarh",
        "colab_type": "code",
        "colab": {}
      },
      "source": [
        "RATING_PATH = './ml-latest-small/ratings.csv'\n",
        "MOVIES_PATH = './ml-latest-small/movies.csv'\n",
        "LINKS_PATH = './ml-latest-small/links.csv'\n",
        "TAGS_PATH = './ml-latest-small/tags.csv'"
      ],
      "execution_count": 0,
      "outputs": []
    },
    {
      "cell_type": "code",
      "metadata": {
        "id": "Ai1EQp9D4j8H",
        "colab_type": "code",
        "outputId": "4352b9cb-7293-4726-e418-3aefc314a662",
        "colab": {
          "base_uri": "https://localhost:8080/",
          "height": 187
        }
      },
      "source": [
        "!head -n 10  {RATING_PATH}"
      ],
      "execution_count": 0,
      "outputs": [
        {
          "output_type": "stream",
          "text": [
            "userId,movieId,rating,timestamp\r\n",
            "1,1,4.0,964982703\r\n",
            "1,3,4.0,964981247\r\n",
            "1,6,4.0,964982224\r\n",
            "1,47,5.0,964983815\r\n",
            "1,50,5.0,964982931\r\n",
            "1,70,3.0,964982400\r\n",
            "1,101,5.0,964980868\r\n",
            "1,110,4.0,964982176\r\n",
            "1,151,5.0,964984041\r\n"
          ],
          "name": "stdout"
        }
      ]
    },
    {
      "cell_type": "markdown",
      "metadata": {
        "id": "I20W-sUquJ6w",
        "colab_type": "text"
      },
      "source": [
        "## Read data from file (DataSet)"
      ]
    },
    {
      "cell_type": "code",
      "metadata": {
        "id": "yYRU-oFytsi4",
        "colab_type": "code",
        "colab": {}
      },
      "source": [
        "from surprise import Dataset\n",
        "from surprise import Reader\n",
        "\n",
        "np.random.seed(0)\n",
        "random.seed(0)"
      ],
      "execution_count": 0,
      "outputs": []
    },
    {
      "cell_type": "code",
      "metadata": {
        "id": "MqYz6ruSuBez",
        "colab_type": "code",
        "outputId": "2685c61b-b3ea-48b7-8cd9-090021ebacd2",
        "colab": {
          "base_uri": "https://localhost:8080/",
          "height": 34
        }
      },
      "source": [
        "reader = Reader(line_format='user item rating timestamp', sep=',', skip_lines=1)\n",
        "\"\"\"\n",
        "line_format - list of columns\n",
        "sep - separator for csv file\n",
        "skip_lines - start from the second line\n",
        "\"\"\""
      ],
      "execution_count": 0,
      "outputs": [
        {
          "output_type": "execute_result",
          "data": {
            "text/plain": [
              "'\\nline_format - list of columns\\nsep - separator for csv file\\nskip_lines - start from the second line\\n'"
            ]
          },
          "metadata": {
            "tags": []
          },
          "execution_count": 6
        }
      ]
    },
    {
      "cell_type": "code",
      "metadata": {
        "id": "3LP8UKpnuVOg",
        "colab_type": "code",
        "colab": {}
      },
      "source": [
        "dataset = Dataset.load_from_file(RATING_PATH, reader=reader)"
      ],
      "execution_count": 0,
      "outputs": []
    },
    {
      "cell_type": "code",
      "metadata": {
        "id": "Fa75tCrGmH9f",
        "colab_type": "code",
        "outputId": "4984d691-f947-4649-d014-9704f5c613b8",
        "colab": {
          "base_uri": "https://localhost:8080/",
          "height": 102
        }
      },
      "source": [
        "%%time\n",
        "from surprise.model_selection import train_test_split\n",
        "from surprise.model_selection import LeaveOneOut\n",
        "from surprise import KNNBaseline\n",
        "from collections import defaultdict\n",
        "\n",
        "def get_popularity_ranking(dataset):\n",
        "    ratings = defaultdict(int)\n",
        "    rankings = defaultdict(int)\n",
        "    data  = dataset.build_full_trainset()\n",
        "    \n",
        "    for userId, movieId, _ in  data.all_ratings():\n",
        "      ratings[movieId] += 1\n",
        "    rank = 1\n",
        "    for movieId, _ in sorted(ratings.items(), key=lambda x: x[1], reverse=True):\n",
        "       rankings[int(data.to_raw_iid(movieId))] = rank\n",
        "       rank+=1\n",
        "    return ratings, rankings\n",
        "\n",
        "\n",
        "class RecommendationDataSet:\n",
        "    def __init__(self, dataset, test_size = .25):\n",
        "      self.dataset = dataset\n",
        "      self.full_dataset = dataset.build_full_trainset()\n",
        "\n",
        "      # Train Set, Test Set to test results\n",
        "      self.train_set, self.test_set = train_test_split(dataset, test_size=test_size, random_state=1)\n",
        "\n",
        "      # https://surprise.readthedocs.io/en/stable/trainset.html#surprise.Trainset.build_anti_testset\n",
        "      ## Situation when the user u is known, the item is known, but the rating is not\n",
        "      # in the trainset\n",
        "      self.anti_test_set        = self.full_dataset.build_anti_testset()\n",
        "\n",
        "      ## LeaveOneOut\n",
        "      ## Cross-validation iterator where each user has exactly one rating in the testset.\n",
        "      leave_one_out_set = LeaveOneOut(n_splits=1, random_state=1)\n",
        "      loo_train_set, loo_test_set = list(leave_one_out_set.split(dataset))[0]\n",
        "\n",
        "      self.leave_one_out_train_set       = loo_train_set\n",
        "      self.leave_one_out_test_set        = loo_test_set\n",
        "      self.leave_one_out_anti_test_set   = loo_train_set.build_anti_testset()\n",
        "\n",
        "      #Compute similarty matrix between items so we can measure diversity\n",
        "      sim_options = {'name': 'cosine', 'user_based': False}\n",
        "      self.similarty_algorithm = KNNBaseline(sim_options=sim_options)\n",
        "      self.similarty_algorithm.fit(self.full_dataset)\n",
        "\n",
        "\n",
        "      # ranking\n",
        "      self.ratings, self.rankings = get_popularity_ranking(dataset)\n",
        "\n",
        "\n",
        "recommendation_dataset = RecommendationDataSet(dataset)"
      ],
      "execution_count": 0,
      "outputs": [
        {
          "output_type": "stream",
          "text": [
            "Estimating biases using als...\n",
            "Computing the cosine similarity matrix...\n",
            "Done computing similarity matrix.\n",
            "CPU times: user 23.6 s, sys: 2 s, total: 25.6 s\n",
            "Wall time: 25.6 s\n"
          ],
          "name": "stdout"
        }
      ]
    },
    {
      "cell_type": "markdown",
      "metadata": {
        "id": "ACDyny5FFQa8",
        "colab_type": "text"
      },
      "source": [
        "# Evaluation\n",
        "\n",
        "\n",
        "## Mean absolute Error:\n",
        "\n",
        "$$\\frac{\\sum_{t=1}^{n}|y_i-x_i|}{n}$$\n",
        "\n",
        "\n",
        "\n",
        "\n",
        "## Root Mean absolute Error:\n",
        "\n",
        "$$\\sqrt\\frac{\\sum_{t=1}^{n}(y_i-x_i)^2}{n}$$\n",
        "\n",
        "\n",
        "\n",
        "$y_i$ - Predicted rating\n",
        "\n",
        "$x_i$ - actual real rating\n"
      ]
    },
    {
      "cell_type": "code",
      "metadata": {
        "id": "hqamqrGS34bl",
        "colab_type": "code",
        "outputId": "389214f9-415b-44b0-edcd-e80a4784314c",
        "colab": {
          "base_uri": "https://localhost:8080/",
          "height": 122
        }
      },
      "source": [
        "from surprise import SVD\n",
        "\n",
        "svd = SVD(random_state=10)\n",
        "svd.fit(recommendation_dataset.train_set)\n",
        "\n",
        "print('Rest Set:', recommendation_dataset.test_set[:10])\n",
        "predictions = svd.test(recommendation_dataset.test_set)\n",
        "print('Predictions: ', predictions[:10])\n",
        "\n",
        "from surprise import accuracy\n",
        "\n",
        "accuracy.mae(predictions, verbose=True)\n",
        "accuracy.rmse(predictions, verbose=True)"
      ],
      "execution_count": 0,
      "outputs": [
        {
          "output_type": "stream",
          "text": [
            "Rest Set: [('167', '1196', 4.5), ('605', '2291', 3.5), ('472', '3298', 4.0), ('600', '362', 2.5), ('105', '7361', 5.0), ('249', '79224', 3.5), ('153', '8464', 1.0), ('354', '1923', 4.0), ('483', '46948', 4.0), ('448', '4255', 0.5)]\n",
            "Predictions:  [Prediction(uid='167', iid='1196', r_ui=4.5, est=4.150335799784241, details={'was_impossible': False}), Prediction(uid='605', iid='2291', r_ui=3.5, est=3.373228411272731, details={'was_impossible': False}), Prediction(uid='472', iid='3298', r_ui=4.0, est=3.742424718052575, details={'was_impossible': False}), Prediction(uid='600', iid='362', r_ui=2.5, est=3.487305536934906, details={'was_impossible': False}), Prediction(uid='105', iid='7361', r_ui=5.0, est=4.80859833564308, details={'was_impossible': False}), Prediction(uid='249', iid='79224', r_ui=3.5, est=3.0133924239941066, details={'was_impossible': False}), Prediction(uid='153', iid='8464', r_ui=1.0, est=2.02352618310102, details={'was_impossible': False}), Prediction(uid='354', iid='1923', r_ui=4.0, est=3.6488403002655305, details={'was_impossible': False}), Prediction(uid='483', iid='46948', r_ui=4.0, est=3.4941448359571194, details={'was_impossible': False}), Prediction(uid='448', iid='4255', r_ui=0.5, est=2.6007200699647526, details={'was_impossible': False})]\n",
            "MAE:  0.6732\n",
            "RMSE: 0.8779\n"
          ],
          "name": "stdout"
        },
        {
          "output_type": "execute_result",
          "data": {
            "text/plain": [
              "0.87790565300794"
            ]
          },
          "metadata": {
            "tags": []
          },
          "execution_count": 10
        }
      ]
    },
    {
      "cell_type": "code",
      "metadata": {
        "id": "6Ncct1b8lhwm",
        "colab_type": "code",
        "outputId": "9bf16206-15a3-462d-9113-a217470d9ef3",
        "colab": {
          "base_uri": "https://localhost:8080/",
          "height": 187
        }
      },
      "source": [
        "from  collections import defaultdict\n",
        "\n",
        "# https://surprise.readthedocs.io/en/stable/FAQ.html#how-to-get-the-top-n-recommendations-for-each-user\n",
        "def get_top_n(predictions, n=10, minimumRating=4.0):\n",
        "    topN = defaultdict(list)\n",
        "\n",
        "    for userID, movieID, actualRating, estimatedRating, _ in predictions:\n",
        "        if (estimatedRating >= minimumRating):\n",
        "            topN[int(userID)].append((int(movieID), estimatedRating))\n",
        "\n",
        "    for userID, ratings in topN.items():\n",
        "        ratings.sort(key=lambda x: x[1], reverse=True)\n",
        "        topN[int(userID)] = ratings[:n]\n",
        "\n",
        "    return topN\n",
        "\n",
        "get_top_n(predictions)[610]"
      ],
      "execution_count": 0,
      "outputs": [
        {
          "output_type": "execute_result",
          "data": {
            "text/plain": [
              "[(4226, 4.515496953427138),\n",
              " (260, 4.447636165483844),\n",
              " (7361, 4.384286812520132),\n",
              " (6502, 4.379323035207386),\n",
              " (48516, 4.367892317536974),\n",
              " (1283, 4.362001234390769),\n",
              " (142488, 4.346278837441465),\n",
              " (1240, 4.3431853118019985),\n",
              " (54503, 4.339674297306723),\n",
              " (68954, 4.331091409087657)]"
            ]
          },
          "metadata": {
            "tags": []
          },
          "execution_count": 11
        }
      ]
    },
    {
      "cell_type": "markdown",
      "metadata": {
        "id": "yeVOD_PflhCa",
        "colab_type": "text"
      },
      "source": [
        "### HitRate\n",
        "\n",
        "In this measure system we've got a recommendation system that give us TOP-N recommendations, so next if the element exists in our test set it is consider as a hit. \n",
        "\n",
        "$\\begin{align*}top\\_n\\_hitrate=\\frac{hits}{users}\\end{align*}$"
      ]
    },
    {
      "cell_type": "code",
      "metadata": {
        "id": "cJVdRdripDvU",
        "colab_type": "code",
        "colab": {}
      },
      "source": [
        "def HitRate(topNPredicted, leftOutPredictions):\n",
        "    hits = 0\n",
        "    total = 0\n",
        "\n",
        "    # For each left-out rating\n",
        "    for leftOut in leftOutPredictions:\n",
        "        userID = leftOut[0]\n",
        "        leftOutMovieID = leftOut[1]\n",
        "        # Is it in the predicted top 10 for this user?\n",
        "        hit = False\n",
        "        for movieID, predictedRating in topNPredicted[int(userID)]:\n",
        "            if (int(leftOutMovieID) == int(movieID)):\n",
        "                hit = True\n",
        "                break\n",
        "        if (hit) :\n",
        "            hits += 1\n",
        "\n",
        "        total += 1\n",
        "\n",
        "    # Compute overall precision\n",
        "    return hits/total"
      ],
      "execution_count": 0,
      "outputs": []
    },
    {
      "cell_type": "markdown",
      "metadata": {
        "id": "Fam1ezHvSq-p",
        "colab_type": "text"
      },
      "source": [
        "## TEST SET, ANTI-TEST SET"
      ]
    },
    {
      "cell_type": "code",
      "metadata": {
        "id": "ZNFYkdcZSmK5",
        "colab_type": "code",
        "outputId": "06e9018f-804c-4470-cec5-ae7c260e6149",
        "colab": {
          "base_uri": "https://localhost:8080/",
          "height": 139
        }
      },
      "source": [
        "np.random.seed(0)\n",
        "random.seed(0)\n",
        "\n",
        "dataframe = pd.DataFrame(\n",
        "    [[10, 1, 5],\n",
        "     [10, 2, 4],\n",
        "     [10, 3, 3],\n",
        "     [10, 5, 2],\n",
        "     [20, 1, 2],\n",
        "     [20, 2, 3],\n",
        "     [20, 4, 2]\n",
        "     ], columns=['uid','iid', 'rating'])\n",
        "\n",
        "sample_dataset = Dataset.load_from_df(dataframe,reader=Reader(rating_scale=(1,5)))\n",
        "train_set, test_set = train_test_split(sample_dataset, test_size=0.2, random_state=1)\n",
        "\n",
        "print('1. Test Set: ', test_set)\n",
        "\n",
        "loo  = LeaveOneOut(n_splits=1, random_state=1)\n",
        "loo_train_set, loo_test_set = list(loo.split(sample_dataset))[0]\n",
        "print('2. Leave One Out Test Set', loo_test_set)\n",
        "\n",
        "\n",
        "loo_anti_test_set =  loo_train_set.build_anti_testset()\n",
        "print('3. Leave one out: Anti Test Set', loo_anti_test_set)\n",
        "\n",
        "loo_anti_test_prediction = svd.test(loo_anti_test_set)\n",
        "loo_anti_test_topn = get_top_n(loo_anti_test_prediction, 2, 1.0)\n",
        "print('4. Leave one out predictions', loo_anti_test_topn)\n",
        "\n",
        "print('Train by SVD on train_set')\n",
        "svd_sample = SVD(random_state=10)\n",
        "svd_sample.fit(loo_train_set)\n",
        "\n",
        "print('5. Hit Rate: ', HitRate(loo_anti_test_topn, loo_test_set))"
      ],
      "execution_count": 0,
      "outputs": [
        {
          "output_type": "stream",
          "text": [
            "1. Test Set:  [(10, 5, 2.0), (20, 2, 3.0)]\n",
            "2. Leave One Out Test Set [(10, 2, 4.0), (20, 1, 2.0)]\n",
            "3. Leave one out: Anti Test Set [(10, 2, 3.0), (10, 4, 3.0), (20, 1, 3.0), (20, 3, 3.0), (20, 5, 3.0)]\n",
            "4. Leave one out predictions defaultdict(<class 'list'>, {10: [(2, 3.5048725984106204), (4, 3.5048725984106204)], 20: [(1, 3.5048725984106204), (3, 3.5048725984106204)]})\n",
            "Train by SVD on train_set\n",
            "5. Hit Rate:  1.0\n"
          ],
          "name": "stdout"
        }
      ]
    },
    {
      "cell_type": "markdown",
      "metadata": {
        "id": "S4LCwjxKpECk",
        "colab_type": "text"
      },
      "source": [
        "## Cumulative Hit Rate\n",
        "\n",
        "In this case we remove hit rate for movies that are not bellow some value. Because we haven't enjoy this movie it shouldn't be in the list.\n",
        "\n",
        "In our cumulative hit rate we need remove this in calculations."
      ]
    },
    {
      "cell_type": "code",
      "metadata": {
        "id": "OhD4A7TNpjS-",
        "colab_type": "code",
        "colab": {}
      },
      "source": [
        "def CumulativeHitRate(topNPredicted, leftOutPredictions, ratingCutoff=0):\n",
        "      hits = 0\n",
        "      total = 0\n",
        "\n",
        "      # For each left-out rating\n",
        "      for userID, leftOutMovieID, actualRating, estimatedRating, _ in leftOutPredictions:\n",
        "          # Only look at ability to recommend things the users actually liked...\n",
        "          if (actualRating >= ratingCutoff):\n",
        "              # Is it in the predicted top 10 for this user?\n",
        "              hit = False\n",
        "              for movieID, predictedRating in topNPredicted[int(userID)]:\n",
        "                  if (int(leftOutMovieID) == movieID):\n",
        "                      hit = True\n",
        "                      break\n",
        "              if (hit) :\n",
        "                  hits += 1\n",
        "\n",
        "              total += 1\n",
        "\n",
        "      # Compute overall precision\n",
        "      return hits/total"
      ],
      "execution_count": 0,
      "outputs": []
    },
    {
      "cell_type": "code",
      "metadata": {
        "id": "hYoJjfMQR9ig",
        "colab_type": "code",
        "outputId": "76220770-5bc9-4d4b-dc8e-008faaf417be",
        "colab": {
          "base_uri": "https://localhost:8080/",
          "height": 34
        }
      },
      "source": [
        "loo_test_prediction = svd_sample.test(loo_test_set)\n",
        "print('Cumulative Hit Rate: ', \n",
        "      CumulativeHitRate(loo_anti_test_topn, loo_test_prediction, 4.0))"
      ],
      "execution_count": 0,
      "outputs": [
        {
          "output_type": "stream",
          "text": [
            "Cumulative Hit Rate:  1.0\n"
          ],
          "name": "stdout"
        }
      ]
    },
    {
      "cell_type": "markdown",
      "metadata": {
        "id": "w0aY2ApbpjbN",
        "colab_type": "text"
      },
      "source": [
        "## Rating Hit Rate (rHR)\n",
        "\n",
        "In this situation for each score in your stars (⭐ 1-5). For each score if the movie is in the score it is consider as a hit, otherwise we add total for this score.\n",
        "\n"
      ]
    },
    {
      "cell_type": "code",
      "metadata": {
        "id": "CQefnZ97pmoN",
        "colab_type": "code",
        "colab": {}
      },
      "source": [
        "def RatingHitRate(topNPredicted, leftOutPredictions):\n",
        "    hits = defaultdict(float)\n",
        "    total = defaultdict(float)\n",
        "\n",
        "    # For each left-out rating\n",
        "    for userID, leftOutMovieID, actualRating, estimatedRating, _ in leftOutPredictions:\n",
        "        # Is it in the predicted top N for this user?\n",
        "        hit = False\n",
        "        for movieID, predictedRating in topNPredicted[int(userID)]:\n",
        "            if (int(leftOutMovieID) == movieID):\n",
        "                hit = True\n",
        "                break\n",
        "        if (hit) :\n",
        "            hits[actualRating] += 1\n",
        "\n",
        "        total[actualRating] += 1\n",
        "\n",
        "    # Compute overall precision\n",
        "    ratings = {}\n",
        "    for rating in sorted(hits.keys()):\n",
        "        ratings[rating] = hits[rating] / total[rating]\n",
        "    return ratings"
      ],
      "execution_count": 0,
      "outputs": []
    },
    {
      "cell_type": "code",
      "metadata": {
        "id": "zdubblARWNfr",
        "colab_type": "code",
        "outputId": "0d587992-6aba-453e-f1bc-6c7386f6b82a",
        "colab": {
          "base_uri": "https://localhost:8080/",
          "height": 34
        }
      },
      "source": [
        "print('Rating Hit Rate: ', \n",
        "      RatingHitRate(loo_anti_test_topn, loo_test_prediction))"
      ],
      "execution_count": 0,
      "outputs": [
        {
          "output_type": "stream",
          "text": [
            "Rating Hit Rate:  {2.0: 1.0, 4.0: 1.0}\n"
          ],
          "name": "stdout"
        }
      ]
    },
    {
      "cell_type": "markdown",
      "metadata": {
        "id": "8Z_rqQnppmv6",
        "colab_type": "text"
      },
      "source": [
        "## Average Reciprocal HitRate  (ARHR)\n",
        "\n",
        "\n",
        "- This is like HitRate but also get into consideration where it is appear $rank_i$. \n",
        "- Focus on the user method\n",
        "\n",
        "$\\begin{align*}arhr=\\frac{\\sum_{i=1}^{n}\\frac{1}{rank_i}}{users}\\end{align*}$\n"
      ]
    },
    {
      "cell_type": "code",
      "metadata": {
        "id": "-Vhmgy3NsWj9",
        "colab_type": "code",
        "colab": {}
      },
      "source": [
        "def AverageReciprocalHitRank(topNPredicted, leftOutPredictions):\n",
        "    summation = 0\n",
        "    total = 0\n",
        "    # For each left-out rating\n",
        "    for userID, leftOutMovieID, actualRating, estimatedRating, _ in leftOutPredictions:\n",
        "        # Is it in the predicted top N for this user?\n",
        "        hitRank = 0\n",
        "        rank = 0\n",
        "        for movieID, predictedRating in topNPredicted[int(userID)]:\n",
        "            rank = rank + 1\n",
        "            if (int(leftOutMovieID) == movieID):\n",
        "                hitRank = rank\n",
        "                break\n",
        "        if (hitRank > 0) :\n",
        "            summation += 1.0 / hitRank\n",
        "\n",
        "        total += 1\n",
        "\n",
        "    return summation / total"
      ],
      "execution_count": 0,
      "outputs": []
    },
    {
      "cell_type": "code",
      "metadata": {
        "id": "H6vSfYwGXfmd",
        "colab_type": "code",
        "outputId": "4c34cfed-249c-40c3-b21b-2ad2ec202fe7",
        "colab": {
          "base_uri": "https://localhost:8080/",
          "height": 102
        }
      },
      "source": [
        "print('Average Reciprocal HitRate (ARHR): ', \n",
        "      AverageReciprocalHitRank(loo_anti_test_topn, loo_test_prediction))\n",
        "\n",
        "\n",
        "loo_anti_test_topn2 = {\n",
        " 10: [(2,3.5), (4,3.5)], \n",
        " 20: [(3,3.5), (1,3.5)]\n",
        "}\n",
        "\n",
        "print('\\nAverage Reciprocal HitRate (ARHR): \\n\\\n",
        "(1/rank_user10 + 1/rank_user20)/2 = (1/1 + 1/2)/2 = \\n', \n",
        "      AverageReciprocalHitRank(loo_anti_test_topn2, loo_test_prediction))"
      ],
      "execution_count": 0,
      "outputs": [
        {
          "output_type": "stream",
          "text": [
            "Average Reciprocal HitRate (ARHR):  1.0\n",
            "\n",
            "Average Reciprocal HitRate (ARHR): \n",
            "(1/rank_user10 + 1/rank_user20)/2 = (1/1 + 1/2)/2 = \n",
            " 0.75\n"
          ],
          "name": "stdout"
        }
      ]
    },
    {
      "cell_type": "markdown",
      "metadata": {
        "id": "OYg2ZnsXsWsR",
        "colab_type": "text"
      },
      "source": [
        "## Coverage\n",
        "\n",
        "The % of <user, item> pairt that can be predicted, with rating higher than min_rate.\n",
        "\n",
        "This is good to measure new items that are not yet scored.\n",
        "\n",
        "$user\\_coverage(>=2.9)=\\frac{user1\\_hits+user2\\_hits}{num\\_users}=\\frac{1+0}{2}=0.5$\n",
        "\n",
        "$user\\_coverage(>=2.0)=\\frac{user1\\_hits+user2\\_hits}{num\\_users}=\\frac{1+1}{2}=1.0$"
      ]
    },
    {
      "cell_type": "code",
      "metadata": {
        "id": "w0_UrGxFsd2J",
        "colab_type": "code",
        "colab": {}
      },
      "source": [
        "# What percentage of users have at least one \"good\" recommendation\n",
        "def UserCoverage(topNPredicted, numUsers, ratingThreshold=0):\n",
        "    hits = 0\n",
        "    for userID in topNPredicted.keys():\n",
        "        hit = False\n",
        "        for movieID, predictedRating in topNPredicted[userID]:\n",
        "            if (predictedRating >= ratingThreshold):\n",
        "                hit = True\n",
        "                break\n",
        "        if (hit):\n",
        "            hits += 1\n",
        "\n",
        "    return hits / numUsers"
      ],
      "execution_count": 0,
      "outputs": []
    },
    {
      "cell_type": "code",
      "metadata": {
        "id": "U2m9r3O_FrVs",
        "colab_type": "code",
        "outputId": "f34e8d9d-0fd4-4039-f404-bb0689024f1b",
        "colab": {
          "base_uri": "https://localhost:8080/",
          "height": 156
        }
      },
      "source": [
        "sample_full = sample_dataset.build_full_trainset()\n",
        "svd_sample.fit(sample_full)\n",
        "\n",
        "sample_anti_testset = sample_full.build_anti_testset()\n",
        "sample_anti_predictions =  svd_sample.test(sample_anti_testset)\n",
        "print(\"Anti Test SET: \", sample_anti_testset)\n",
        "print(\"Anti Test Predictions: \", sample_anti_predictions)\n",
        "\n",
        "sample_anti_topn = get_top_n(sample_anti_predictions, 2, 1.0)\n",
        "print(\"Anti Test TopN: \", sample_anti_topn)\n",
        "\n",
        "print('User Coverage (>=2.9): ', UserCoverage(sample_anti_topn,2,2.9) )\n",
        "print('User Coverage (>=2.5): ', UserCoverage(sample_anti_topn,2,2.5) )\n",
        "print('User Coverage (>=2.7): ', UserCoverage(sample_anti_topn,2,0) )\n",
        "print('User Coverage (>=4.0): ', UserCoverage(sample_anti_topn,2,4.0) )"
      ],
      "execution_count": 0,
      "outputs": [
        {
          "output_type": "stream",
          "text": [
            "Anti Test SET:  [(10, 4, 3.0), (20, 3, 3.0), (20, 5, 3.0)]\n",
            "Anti Test Predictions:  [Prediction(uid=10, iid=4, r_ui=3.0, est=2.9810168611713936, details={'was_impossible': False}), Prediction(uid=20, iid=3, r_ui=3.0, est=2.777842182291167, details={'was_impossible': False}), Prediction(uid=20, iid=5, r_ui=3.0, est=2.590335248598558, details={'was_impossible': False})]\n",
            "Anti Test TopN:  defaultdict(<class 'list'>, {10: [(4, 2.9810168611713936)], 20: [(3, 2.777842182291167), (5, 2.590335248598558)]})\n",
            "User Coverage (>=2.9):  0.5\n",
            "User Coverage (>=2.5):  1.0\n",
            "User Coverage (>=2.7):  1.0\n",
            "User Coverage (>=4.0):  0.0\n"
          ],
          "name": "stdout"
        }
      ]
    },
    {
      "cell_type": "markdown",
      "metadata": {
        "id": "ZRtmOsQUsd9F",
        "colab_type": "text"
      },
      "source": [
        "## Diversity\n",
        "\n",
        "For diversity we use similarity matrix between movies. Diversity is (1-S) where S is similarity for each pair in the user recommendation.\n",
        "\n",
        "Very High diversity very often means that algorithm return random values.\n",
        "Too Low is not good because it shows very similar ones"
      ]
    },
    {
      "cell_type": "code",
      "metadata": {
        "id": "4d-XVbxysmUx",
        "colab_type": "code",
        "colab": {}
      },
      "source": [
        "import itertools\n",
        "\n",
        "def Diversity(topNPredicted, simsAlgo, fun = int):\n",
        "    n = 0\n",
        "    total = 0\n",
        "    simsMatrix = simsAlgo.compute_similarities()\n",
        "    for userID in topNPredicted.keys():\n",
        "        pairs = itertools.combinations(topNPredicted[userID], 2)\n",
        "        for pair in pairs:\n",
        "            movie1 = pair[0][0]\n",
        "            movie2 = pair[1][0]\n",
        "            innerID1 = simsAlgo.trainset.to_inner_iid(fun(movie1))\n",
        "            innerID2 = simsAlgo.trainset.to_inner_iid(fun(movie2))\n",
        "            similarity = simsMatrix[innerID1][innerID2]\n",
        "            total += similarity\n",
        "            n += 1\n",
        "\n",
        "    S = total / n\n",
        "    return (1-S)\n"
      ],
      "execution_count": 0,
      "outputs": []
    },
    {
      "cell_type": "code",
      "metadata": {
        "id": "_s-fSiRYKfwb",
        "colab_type": "code",
        "outputId": "053575f6-f8f3-4d0a-fc58-706de6de897f",
        "colab": {
          "base_uri": "https://localhost:8080/",
          "height": 527
        }
      },
      "source": [
        "sim_options = {'name': 'cosine', 'user_based': False}\n",
        "similarty_algorithm = KNNBaseline(sim_options=sim_options)\n",
        "similarty_algorithm.fit(sample_full)\n",
        "print('Inner index', \n",
        "      {'i'+str(id):   similarty_algorithm.trainset.to_inner_iid(id) for id in range(1,6)}\n",
        "    )\n",
        "matrix =  similarty_algorithm.compute_similarities()\n",
        "print('\\nSimilarity matrix: \\n',matrix)\n",
        "\n",
        "innerID1 = similarty_algorithm.trainset.to_inner_iid(int(3))\n",
        "innerID2 = similarty_algorithm.trainset.to_inner_iid(int(5))\n",
        "\n",
        "print('\\nFor user10: There is no pair. Similarity = 0.0')\n",
        "print('For user20: Similarity between i3 and i5 is: ', \n",
        "      matrix[innerID1][innerID2] )\n",
        "print('Diversity is (1-1/1) =  0.0' )\n",
        "print('\\nDiversity: ', Diversity(sample_anti_topn, similarty_algorithm))\n",
        "\n",
        "sample_anti_topn2 = {\n",
        "    10: [(2,4.0), (1,3.0)],\n",
        "    20: [(3,4.0), (5,3.0)]\n",
        "}\n",
        "print('\\n\\nSample 2', sample_anti_topn2)\n",
        "print('For user10: There is pair(i2,i1). Similarity = 0.965')\n",
        "print('For user20: There is pair(i3,i5). Similarity = 1.0')\n",
        "print('Diversity is: (1- (0.965+1.0)/2) = 0.0175')\n",
        "\n",
        "print('Diversity: ', Diversity(sample_anti_topn2, similarty_algorithm))"
      ],
      "execution_count": 0,
      "outputs": [
        {
          "output_type": "stream",
          "text": [
            "Estimating biases using als...\n",
            "Computing the cosine similarity matrix...\n",
            "Done computing similarity matrix.\n",
            "Inner index {'i1': 0, 'i2': 1, 'i3': 2, 'i4': 4, 'i5': 3}\n",
            "Computing the cosine similarity matrix...\n",
            "Done computing similarity matrix.\n",
            "\n",
            "Similarity matrix: \n",
            " [[1.         0.96561576 1.         1.         1.        ]\n",
            " [0.96561576 1.         1.         1.         1.        ]\n",
            " [1.         1.         1.         1.         0.        ]\n",
            " [1.         1.         1.         1.         0.        ]\n",
            " [1.         1.         0.         0.         1.        ]]\n",
            "\n",
            "For user10: There is no pair. Similarity = 0.0\n",
            "For user20: Similarity between i3 and i5 is:  1.0\n",
            "Diversity is (1-1/1) =  0.0\n",
            "Computing the cosine similarity matrix...\n",
            "Done computing similarity matrix.\n",
            "\n",
            "Diversity:  0.0\n",
            "\n",
            "\n",
            "Sample 2 {10: [(2, 4.0), (1, 3.0)], 20: [(3, 4.0), (5, 3.0)]}\n",
            "For user10: There is pair(i2,i1). Similarity = 0.965\n",
            "For user20: There is pair(i3,i5). Similarity = 1.0\n",
            "Diversity is: (1- (0.965+1.0)/2) = 0.0175\n",
            "Computing the cosine similarity matrix...\n",
            "Done computing similarity matrix.\n",
            "Diversity:  0.01719212073966514\n"
          ],
          "name": "stdout"
        }
      ]
    },
    {
      "cell_type": "markdown",
      "metadata": {
        "id": "RTKfoFI4smcJ",
        "colab_type": "text"
      },
      "source": [
        "## Novelty\n",
        "\n",
        "High Novelty can show movies from long tail."
      ]
    },
    {
      "cell_type": "code",
      "metadata": {
        "id": "AA8-r7IxR5BY",
        "colab_type": "code",
        "outputId": "e67b5f51-037f-44df-b274-a0d39cf7ff63",
        "colab": {
          "base_uri": "https://localhost:8080/",
          "height": 139
        }
      },
      "source": [
        "def Novelty(topNPredicted, rankings):\n",
        "    n = 0\n",
        "    total = 0\n",
        "    for userID in topNPredicted.keys():\n",
        "        for rating in topNPredicted[userID]:\n",
        "            movieID = rating[0]\n",
        "            rank = rankings[int(movieID)]\n",
        "            total += rank\n",
        "            n += 1\n",
        "    return total / n\n",
        "\n",
        "print('Popularity rankings: \\n', get_popularity_ranking(sample_dataset))\n",
        "print('Ranking: ', sample_anti_topn)\n",
        "print('For Movie 4 rank is: 5, movie 3 is: 4, movie 5 is 3')\n",
        "print('Novelty is: (5+4+3)/3 = 12/3 = 4.0')\n",
        "print('Novelty is: ', Novelty(sample_anti_topn, get_popularity_ranking(sample_dataset)[1]))"
      ],
      "execution_count": 0,
      "outputs": [
        {
          "output_type": "stream",
          "text": [
            "Popularity rankings: \n",
            " (defaultdict(<class 'int'>, {0: 2, 1: 2, 2: 1, 3: 1, 4: 1}), defaultdict(<class 'int'>, {1: 1, 2: 2, 3: 3, 5: 4, 4: 5}))\n",
            "Ranking:  defaultdict(<class 'list'>, {10: [(4, 2.9810168611713936)], 20: [(3, 2.777842182291167), (5, 2.590335248598558)]})\n",
            "For Movie 4 rank is: 5, movie 3 is: 4, movie 5 is 3\n",
            "Novelty is: (5+4+3)/3 = 12/3 = 4.0\n",
            "Novelty is:  4.0\n"
          ],
          "name": "stdout"
        }
      ]
    },
    {
      "cell_type": "markdown",
      "metadata": {
        "id": "i8cOsrcrTAMs",
        "colab_type": "text"
      },
      "source": [
        "## EVALUATION"
      ]
    },
    {
      "cell_type": "code",
      "metadata": {
        "id": "g332ycKulFEX",
        "colab_type": "code",
        "colab": {}
      },
      "source": [
        "from surprise import accuracy\n",
        "\n",
        "\n",
        "def get_evaluation(algorithm, \n",
        "                    recommendation_dataset, verbose = True):\n",
        "  metrics = {}\n",
        "  predictions = algorithm.test(recommendation_dataset.test_set)\n",
        "\n",
        "  metrics['MAE'] = accuracy.mae(predictions, verbose=False)\n",
        "  metrics['RMSE'] = accuracy.rmse(predictions, verbose=False)\n",
        "\n",
        "  # LEAVE ONE OUT FIT/TEST\n",
        "  algorithm.fit( recommendation_dataset.leave_one_out_train_set )\n",
        "  leave_one_out_test_prediction = algorithm.test(recommendation_dataset.leave_one_out_test_set)\n",
        "\n",
        "  #  LEAVE ONE OUT ANTI TEST PREDICTION/TOP-N\n",
        "  leave_one_out_anti_test_prediction = algorithm.test(recommendation_dataset.leave_one_out_anti_test_set)\n",
        "  leave_one_out_anti_test_topn = get_top_n(leave_one_out_anti_test_prediction, 10, 4.0)\n",
        "\n",
        "  # See how often we recommended a movie the user actually rated\n",
        "  metrics[\"HR\"] = HitRate(leave_one_out_anti_test_topn, leave_one_out_test_prediction)   \n",
        "\n",
        "  # See how often we recommended a movie the user actually liked\n",
        "  metrics[\"cHR\"] = CumulativeHitRate(leave_one_out_anti_test_topn, leave_one_out_test_prediction)\n",
        "\n",
        "  # Compute ARHR\n",
        "  metrics[\"ARHR\"] = AverageReciprocalHitRank(leave_one_out_anti_test_topn, leave_one_out_test_prediction)\n",
        "\n",
        "  # Rating HitRate\n",
        "  metrics[\"rHR\"] = RatingHitRate(leave_one_out_anti_test_topn, leave_one_out_test_prediction)\n",
        "\n",
        "\n",
        "\n",
        "  # BASED ON FULL DATASET\n",
        "  algorithm.fit(recommendation_dataset.full_dataset)\n",
        "  anti_test_prediction = algorithm.test(recommendation_dataset.anti_test_set)\n",
        "  anti_test_topn = get_top_n(anti_test_prediction, 10, 4.0 )\n",
        "\n",
        "  # Coverage\n",
        "  metrics[\"Coverage\"] = UserCoverage(  anti_test_topn, \n",
        "                                     recommendation_dataset.full_dataset.n_users, \n",
        "                                     ratingThreshold=4.0)\n",
        "  \n",
        "  # Measure diversity of recommendations:\n",
        "  metrics[\"Diversity\"] = Diversity(anti_test_topn, \n",
        "                                   recommendation_dataset.similarty_algorithm, str)\n",
        "  \n",
        "  # Measure novelty (average popularity rank of recommendations):\n",
        "  metrics[\"Novelty\"] = Novelty(anti_test_topn, recommendation_dataset.rankings)\n",
        "        \n",
        "  if verbose:\n",
        "    print('Mean Absolute Error:',  metrics['MAE'])\n",
        "    print('Root Mean Square Error:',  metrics['RMSE'])\n",
        "\n",
        "    print('Hit Rate (HR):',  metrics['HR'])\n",
        "    print('Cumulative Hit Rate (cHR):',  metrics['cHR'])\n",
        "    print('Average Reciprocal HitRate  (ARHR):',  metrics['ARHR'])\n",
        "\n",
        "    print('Rating  HitRate  (rHR):',  metrics['rHR'])\n",
        "\n",
        "    print('Coverage:',  metrics['Coverage'])\n",
        "    print('Diversity:',  metrics['Diversity'])\n",
        "    print('Novelty:',  metrics['Novelty'])\n",
        "    \n",
        "  return metrics"
      ],
      "execution_count": 0,
      "outputs": []
    },
    {
      "cell_type": "markdown",
      "metadata": {
        "id": "4DfaOBweN_Vb",
        "colab_type": "text"
      },
      "source": [
        "# CONTENT BASED ALGORITHM"
      ]
    },
    {
      "cell_type": "markdown",
      "metadata": {
        "id": "H6pMG8sxfuOT",
        "colab_type": "text"
      },
      "source": [
        "## COSINE SIMILARITY\n",
        "\n",
        "https://learning.oreilly.com/library/view/statistics-for-machine/9781788295758/eb9cd609-e44a-40a2-9c3a-f16fc4f5289a.xhtml\n",
        "\n"
      ]
    },
    {
      "cell_type": "markdown",
      "metadata": {
        "id": "WDUzVoeYaKgH",
        "colab_type": "text"
      },
      "source": [
        "## Mise En Scene"
      ]
    },
    {
      "cell_type": "code",
      "metadata": {
        "id": "odp3lHo1VM7g",
        "colab_type": "code",
        "outputId": "9afe8942-7f70-4c76-8ba3-6ca301f9a492",
        "colab": {
          "base_uri": "https://localhost:8080/",
          "height": 411
        }
      },
      "source": [
        "!wget https://raw.githubusercontent.com/PacktPublishing/Building-Recommender-Systems-with-Machine-Learning-and-AI/master/ContentBased/LLVisualFeatures13K_Log.csv\n",
        "#!unzip Mise-en-Scene-Dataset-v1.zip\n",
        "\n",
        "#!mkdir miseenscene\n",
        "#!mv ./\"Mise-en-Scene Dataset_v1\"/* ./miseenscene/\n",
        "!ls ./*\n",
        "\n",
        "\n",
        "MISE_EN_SCENE = './LLVisualFeatures13K_Log.csv'"
      ],
      "execution_count": 0,
      "outputs": [
        {
          "output_type": "stream",
          "text": [
            "--2019-12-17 13:28:05--  https://raw.githubusercontent.com/PacktPublishing/Building-Recommender-Systems-with-Machine-Learning-and-AI/master/ContentBased/LLVisualFeatures13K_Log.csv\n",
            "Resolving raw.githubusercontent.com (raw.githubusercontent.com)... 151.101.0.133, 151.101.64.133, 151.101.128.133, ...\n",
            "Connecting to raw.githubusercontent.com (raw.githubusercontent.com)|151.101.0.133|:443... connected.\n",
            "HTTP request sent, awaiting response... 200 OK\n",
            "Length: 1787176 (1.7M) [text/plain]\n",
            "Saving to: ‘LLVisualFeatures13K_Log.csv’\n",
            "\n",
            "\r          LLVisualF   0%[                    ]       0  --.-KB/s               \rLLVisualFeatures13K 100%[===================>]   1.70M  --.-KB/s    in 0.09s   \n",
            "\n",
            "2019-12-17 13:28:05 (19.8 MB/s) - ‘LLVisualFeatures13K_Log.csv’ saved [1787176/1787176]\n",
            "\n",
            "./LLVisualFeatures13K_Log.csv  ./ml-latest-small.zip\n",
            "\n",
            "./miseenscene:\n",
            "\n",
            "./ml-latest-small:\n",
            "links.csv  movies.csv  ratings.csv  README.txt\ttags.csv\n",
            "\n",
            "./sample_data:\n",
            "anscombe.json\t\t      mnist_test.csv\n",
            "california_housing_test.csv   mnist_train_small.csv\n",
            "california_housing_train.csv  README.md\n"
          ],
          "name": "stdout"
        }
      ]
    },
    {
      "cell_type": "markdown",
      "metadata": {
        "id": "wIQuEQRcaM3X",
        "colab_type": "text"
      },
      "source": [
        "## Data Extractor"
      ]
    },
    {
      "cell_type": "code",
      "metadata": {
        "id": "XvCi1UeKOB0N",
        "colab_type": "code",
        "outputId": "61536c03-aacd-41fe-a121-92a7f99c1444",
        "colab": {
          "base_uri": "https://localhost:8080/",
          "height": 34
        }
      },
      "source": [
        "import re\n",
        "\n",
        "\n",
        "class DataExtractor:\n",
        "  def process(self, \n",
        "              file):\n",
        "    print('processss')\n",
        "    movies = pd.read_csv(file, sep=',')\n",
        "\n",
        "    #add genres\n",
        "    genre_dummies = self.generate_dummies(movies, 'genres')\n",
        "    genre_dummies = genre_dummies.add_prefix('genre_')\n",
        "    genres = pd.concat([movies['movieId'], genre_dummies], axis=1)\n",
        "\n",
        "    genres.set_index('movieId', inplace=True)\n",
        "    self.genres_list = genres.to_dict('index')\n",
        "    self.genres = {key: np.array(list(value.values())) for key, value in self.genres_list.items()}\n",
        "\n",
        "    # extract years\n",
        "    p = re.compile(r\"(?:\\((\\d{4})\\))?\\s*$\")\n",
        "    def get_year(r):\n",
        "      title = r['title']\n",
        "      m = p.search(title)\n",
        "      year = m.group(1)\n",
        "      return year\n",
        "\n",
        "    movies['year'] = movies.apply(get_year, 'columns')\n",
        "    movies.set_index('movieId', inplace=True)\n",
        "    self.movies = movies\n",
        "    years = movies['year'].fillna(0).astype(int).to_dict()\n",
        "    self.years = years\n",
        "\n",
        "    # extract mise_en_scene\n",
        "    mise_en_scene = pd.read_csv(MISE_EN_SCENE, sep=',')\n",
        "    mise_en_scene.set_index('ML_Id', inplace=True)\n",
        "    self.mise_en_scene = {key: list(value.values()) for key,value in mise_en_scene.to_dict('index').items()}\n",
        "\n",
        "  def get_movie(self,movieID):\n",
        "      return self.movies.loc[movieID]\n",
        "\n",
        "  def get_title(self, movieID):\n",
        "      return self.get_movie(movieID)['title']\n",
        "\n",
        "  def get_genres(self, movieID):\n",
        "      return self.genres[movieID]\n",
        "\n",
        "  def get_year(self, movieID):\n",
        "      y1 = None\n",
        "      if movieID in self.movies.index:\n",
        "        y1 = self.movies.loc[movieID]['year']\n",
        "      if y1 is None:\n",
        "        return 0\n",
        "      return int(y1)\n",
        "\n",
        "  def get_mise_en_scene(self, movieID):\n",
        "      return self.mise_en_scene[movieID]\n",
        "\n",
        "\n",
        "  def to_list(self, textdata):\n",
        "      return ''.join(textdata.lower().split()).split('|')\n",
        "\n",
        "  def generate_dummies(self, df, column):\n",
        "      series = df[column]\n",
        "      return  pd.get_dummies(series.apply(self.to_list).apply(pd.Series).stack()).sum(level=0)\n",
        "\n",
        "\n",
        "de = DataExtractor()\n",
        "de.process(MOVIES_PATH);"
      ],
      "execution_count": 0,
      "outputs": [
        {
          "output_type": "stream",
          "text": [
            "processss\n"
          ],
          "name": "stdout"
        }
      ]
    },
    {
      "cell_type": "code",
      "metadata": {
        "id": "hlQ-HA4pPr1L",
        "colab_type": "code",
        "outputId": "fafcd262-9967-4187-e751-8b97756c0c4e",
        "colab": {
          "base_uri": "https://localhost:8080/",
          "height": 190
        }
      },
      "source": [
        "movieID = 96\n",
        "print('Movie: ', de.get_movie(movieID))\n",
        "print('\\nYear: ', de.get_year(movieID))\n",
        "print('Title: ', de.get_title(movieID))\n",
        "print('Genres: ', de.get_genres(movieID))\n",
        "print('Mise En Scene', de.get_mise_en_scene(movieID))"
      ],
      "execution_count": 0,
      "outputs": [
        {
          "output_type": "stream",
          "text": [
            "Movie:  title     In the Bleak Midwinter (1995)\n",
            "genres                     Comedy|Drama\n",
            "year                               1995\n",
            "Name: 96, dtype: object\n",
            "\n",
            "Year:  1995\n",
            "Title:  In the Bleak Midwinter (1995)\n",
            "Genres:  [0 0 0 0 0 1 0 0 1 0 0 0 0 0 0 0 0 0 0 0]\n",
            "Mise En Scene [0.7826967221359541, 0.6586550538895021, 0.6483078883071041, 0.13831277317628196, 0.172365024786917, 0.19138055098497603, 0.35379310371877]\n"
          ],
          "name": "stdout"
        }
      ]
    },
    {
      "cell_type": "markdown",
      "metadata": {
        "id": "MKKVvtcSaaOP",
        "colab_type": "text"
      },
      "source": [
        "## Content Base Algorithm"
      ]
    },
    {
      "cell_type": "code",
      "metadata": {
        "id": "PFnXpyCFaa7K",
        "colab_type": "code",
        "colab": {}
      },
      "source": [
        "import heapq\n",
        "from surprise import PredictionImpossible\n",
        "from surprise import AlgoBase\n",
        "from surprise import Dataset\n",
        "from surprise.model_selection import cross_validate\n",
        "import math\n",
        "from tqdm.autonotebook import tqdm\n",
        "\n",
        "class SimilarityAlgorithm(AlgoBase):\n",
        "    results = {}\n",
        "\n",
        "    def __init__(self,de:DataExtractor ):\n",
        "        AlgoBase.__init__(self)\n",
        "        self.de = de\n",
        "\n",
        "    def fit(self, trainset):\n",
        "        AlgoBase.fit(self, trainset)\n",
        "        movie_ids = []\n",
        "        for i in range(0, trainset.n_items):\n",
        "            movie_ids.append(int(trainset.to_raw_iid(i)))\n",
        "        movie_ids = list(set(movie_ids))\n",
        "\n",
        "        print('trainset size: '+ str(len(movie_ids)))\n",
        "\n",
        "        #calculate similarity\n",
        "        self.similarity = self.calculate(movie_ids)\n",
        "        return self\n",
        "\n",
        "    def calculate_feature_similarity(self, feature1, feature2):\n",
        "        # feature1 = np.array(list(feature1))\n",
        "        # feature2 = np.array(list(feature2))\n",
        "        intersection = feature1 * feature2\n",
        "        return intersection.sum() / math.sqrt(feature1.sum() * feature2.sum())\n",
        "\n",
        "    def compute_year_similarity(self, y1, y2):\n",
        "        diff = abs(y2 - y1)\n",
        "        sim = math.exp(-diff / 10.0)\n",
        "        return sim\n",
        "\n",
        "    def compute_mise_en_scene_similarity(self, movie1, movie2, mise):\n",
        "        if not movie1 in mise.keys():\n",
        "          return 1.0\n",
        "        if not movie2 in mise.keys():\n",
        "          return 1.0\n",
        "\n",
        "        mes1 = mise[movie1]\n",
        "        mes2 = mise[movie2]\n",
        "\n",
        "\n",
        "        shotLengthDiff = math.fabs(mes1[0] - mes2[0])\n",
        "        colorVarianceDiff = math.fabs(mes1[1] - mes2[1])\n",
        "        motionDiff = math.fabs(mes1[3] - mes2[3])\n",
        "        lightingDiff = math.fabs(mes1[5] - mes2[5])\n",
        "        numShotsDiff = math.fabs(mes1[6] - mes2[6])\n",
        "        return shotLengthDiff * colorVarianceDiff * motionDiff * lightingDiff * numShotsDiff\n",
        "\n",
        "\n",
        "    def calculate(self, movie_ids):\n",
        "        size = len(movie_ids)\n",
        "        similarities = np.zeros((size, size))\n",
        "        genres = self.de.genres\n",
        "        years = self.de.years\n",
        "        mise = self.de.mise_en_scene\n",
        "\n",
        "        #rev_movie_ids = movie_ids.reverse()\n",
        "        for id1 in tqdm(range(0, size)):\n",
        "            m_id1 = movie_ids[id1]\n",
        "\n",
        "            for id2 in range(id1, size):\n",
        "                m_id2 = movie_ids[id2]\n",
        " \n",
        "                genre_similarity = self.calculate_feature_similarity( genres[m_id1], genres[m_id2] )  \n",
        "                year_similarity = self.compute_year_similarity(years[m_id1], years[m_id2])  \n",
        "                miseenscene_similarity = self.compute_mise_en_scene_similarity(m_id1, m_id2, mise)  \n",
        "\n",
        "                similarities[id1, id2] = genre_similarity * year_similarity * miseenscene_similarity\n",
        "                similarities[id2, id1] = similarities[id1, id2]\n",
        "\n",
        "        return similarities\n",
        "\n",
        "\n",
        "    def estimate(self, u, i):\n",
        "\n",
        "        if not (self.trainset.knows_user(u) and self.trainset.knows_item(i)):\n",
        "            raise PredictionImpossible('User and/or item is unkown.')\n",
        "        \n",
        "        # Build up similarity scores between this item and everything the user rated\n",
        "        neighbors = []\n",
        "        for rating in self.trainset.ur[u]: #w datasesie user rating\n",
        "            genreSimilarity = self.similarity[i,rating[0]]\n",
        "            neighbors.append( (genreSimilarity, rating[1]) )\n",
        "        \n",
        "        # Extract the top-K most-similar ratings\n",
        "        k_neighbors = heapq.nlargest(40, neighbors, key=lambda t: t[0])\n",
        "\n",
        "        # Compute average sim score of K neighbors weighted by user ratings\n",
        "        simTotal = weightedSum = 0\n",
        "        for (simScore, rating) in k_neighbors:\n",
        "            if (simScore > 0):\n",
        "                simTotal += simScore\n",
        "                weightedSum += simScore * rating\n",
        "            \n",
        "        if (simTotal == 0):\n",
        "            raise PredictionImpossible('No neighbors')\n",
        "\n",
        "        predictedRating = weightedSum / simTotal\n",
        "\n",
        "\n",
        "        #add to results\n",
        "        self.results[int(self.trainset.to_raw_iid(i))] = predictedRating\n",
        "        return predictedRating\n",
        "\n",
        "    def get_recomendations(self, count=10):\n",
        "        res = sorted((value,key) for (key,value) in self.results.items())\n",
        "        return self.results"
      ],
      "execution_count": 0,
      "outputs": []
    },
    {
      "cell_type": "code",
      "metadata": {
        "id": "fTeOjlUxbifK",
        "colab_type": "code",
        "outputId": "1c2cd92c-1b5f-490d-8a3d-d8a10500ff0c",
        "colab": {
          "base_uri": "https://localhost:8080/",
          "height": 500,
          "referenced_widgets": [
            "27fd191360c04896bbe9ac9e844dd437",
            "f05885c391cc49739eba995c8da83579",
            "7e17272aa0c24f3a8751d96755cbc86b",
            "8e99cde97c3e4900b05b566b1c70de09",
            "3bdf2185a2b044a59774dd34550b2bbc",
            "b275fd1fe2804faf8b00f89e0179a7d8",
            "aac1a7c1bbe448ed858ab7ec3ed60da1",
            "63458c0690b24125bd6f4bc5b3a7daca",
            "a8e8eacb0a694833818752c436fa37f3",
            "7b40070c334849a1979e0df9fcabd511",
            "d3a09b26b8694a7b9bb745c8ce7a96c1",
            "266ddd10d28e432abf43965821850822",
            "10104563431d446f987436de5c39896b",
            "389790ad36a14e99820a6cc71e4f5b1b",
            "dd38d447222c482991154ad69d904df1",
            "35cb9288a51b41a687d7e94e6fac1283",
            "d90178afe9e544caa691fd4cae04d743",
            "146a23f654a747e79ac1ade95e0a0857",
            "06cb39a7c6d543ddb73dd171850e8ce7",
            "3ddf29cf7c824cf388be67fa8800d566",
            "d503137c68e4452fb9e2677623b52b6c",
            "382ed1492c814146a125d3fa673d1d0e",
            "99b250cca41d4545a8a575ea5f1082f7",
            "9e0bd20b2aa44c2b86957699d1682033",
            "2ffbe6408936405ea578483f4fdeaa94",
            "c9d032063a8140259d00edd6bc80cb98",
            "832f7cae1e74444d841eca5fb3717c13",
            "a1798f5247ad4d1582f2d4615907b9a1",
            "778bc0e6a78e46dfbff4844fc8b3e9d3",
            "11dfc3dffc6d4d0abface05b76926d3f",
            "c79829466d3b41c1abfc08826403ed87",
            "b898efa3f4054e9fb89d8fdb8cc5a4fb",
            "01c5456c9cd742e9af83e59067ae3bb7",
            "e098ee47d0c64981b6c355e531223238",
            "f399924c03f1477faa35b5a09ada75e7",
            "25d9676ab220496bbce97c02cc5cf0c1",
            "cbe17f48f339467489a0ebea7b51a9a4",
            "4d6e803fd8c840c89fdd86e4149e59fb",
            "1499decfdc7b49519e48f4495ce18d71",
            "05e2919b9a1b482faf5e2d40a15d2bc3"
          ]
        }
      },
      "source": [
        "%%time\n",
        "\n",
        "\n",
        "algo = SimilarityAlgorithm(de)\n",
        "\n",
        "cross_validate(algo, dataset, verbose=True)"
      ],
      "execution_count": 0,
      "outputs": [
        {
          "output_type": "stream",
          "text": [
            "trainset size: 8975\n"
          ],
          "name": "stdout"
        },
        {
          "output_type": "display_data",
          "data": {
            "application/vnd.jupyter.widget-view+json": {
              "model_id": "27fd191360c04896bbe9ac9e844dd437",
              "version_minor": 0,
              "version_major": 2
            },
            "text/plain": [
              "HBox(children=(IntProgress(value=0, max=8975), HTML(value='')))"
            ]
          },
          "metadata": {
            "tags": []
          }
        },
        {
          "output_type": "stream",
          "text": [
            "\n",
            "trainset size: 8996\n"
          ],
          "name": "stdout"
        },
        {
          "output_type": "display_data",
          "data": {
            "application/vnd.jupyter.widget-view+json": {
              "model_id": "a8e8eacb0a694833818752c436fa37f3",
              "version_minor": 0,
              "version_major": 2
            },
            "text/plain": [
              "HBox(children=(IntProgress(value=0, max=8996), HTML(value='')))"
            ]
          },
          "metadata": {
            "tags": []
          }
        },
        {
          "output_type": "stream",
          "text": [
            "\n",
            "trainset size: 8947\n"
          ],
          "name": "stdout"
        },
        {
          "output_type": "display_data",
          "data": {
            "application/vnd.jupyter.widget-view+json": {
              "model_id": "d90178afe9e544caa691fd4cae04d743",
              "version_minor": 0,
              "version_major": 2
            },
            "text/plain": [
              "HBox(children=(IntProgress(value=0, max=8947), HTML(value='')))"
            ]
          },
          "metadata": {
            "tags": []
          }
        },
        {
          "output_type": "stream",
          "text": [
            "\n",
            "trainset size: 8973\n"
          ],
          "name": "stdout"
        },
        {
          "output_type": "display_data",
          "data": {
            "application/vnd.jupyter.widget-view+json": {
              "model_id": "2ffbe6408936405ea578483f4fdeaa94",
              "version_minor": 0,
              "version_major": 2
            },
            "text/plain": [
              "HBox(children=(IntProgress(value=0, max=8973), HTML(value='')))"
            ]
          },
          "metadata": {
            "tags": []
          }
        },
        {
          "output_type": "stream",
          "text": [
            "\n",
            "trainset size: 8979\n"
          ],
          "name": "stdout"
        },
        {
          "output_type": "display_data",
          "data": {
            "application/vnd.jupyter.widget-view+json": {
              "model_id": "01c5456c9cd742e9af83e59067ae3bb7",
              "version_minor": 0,
              "version_major": 2
            },
            "text/plain": [
              "HBox(children=(IntProgress(value=0, max=8979), HTML(value='')))"
            ]
          },
          "metadata": {
            "tags": []
          }
        },
        {
          "output_type": "stream",
          "text": [
            "\n",
            "Evaluating RMSE, MAE of algorithm SimilarityAlgorithm on 5 split(s).\n",
            "\n",
            "                  Fold 1  Fold 2  Fold 3  Fold 4  Fold 5  Mean    Std     \n",
            "RMSE (testset)    0.9932  0.9833  0.9688  0.9874  0.9757  0.9817  0.0086  \n",
            "MAE (testset)     0.7673  0.7587  0.7466  0.7630  0.7539  0.7579  0.0072  \n",
            "Fit time          715.63  739.89  726.09  748.31  719.81  729.95  12.32   \n",
            "Test time         7.99    7.68    7.92    7.58    8.15    7.87    0.21    \n",
            "CPU times: user 1h 1min 24s, sys: 17.6 s, total: 1h 1min 42s\n",
            "Wall time: 1h 1min 29s\n"
          ],
          "name": "stdout"
        }
      ]
    },
    {
      "cell_type": "markdown",
      "metadata": {
        "id": "0he938yKXe1K",
        "colab_type": "text"
      },
      "source": [
        "# Colaborative Filtering"
      ]
    },
    {
      "cell_type": "markdown",
      "metadata": {
        "id": "BPYbLLuca002",
        "colab_type": "text"
      },
      "source": [
        "## User Based"
      ]
    },
    {
      "cell_type": "code",
      "metadata": {
        "id": "voQy2A53ZyvG",
        "colab_type": "code",
        "colab": {}
      },
      "source": [
        "from surprise import KNNBasic"
      ],
      "execution_count": 0,
      "outputs": []
    },
    {
      "cell_type": "code",
      "metadata": {
        "id": "hetHKaaOZvTB",
        "colab_type": "code",
        "outputId": "277da580-0327-443e-d60e-4831266cd661",
        "colab": {
          "base_uri": "https://localhost:8080/",
          "height": 68
        }
      },
      "source": [
        "sim_options = {'name': 'cosine',\n",
        "               'user_based': True\n",
        "               }\n",
        "\n",
        "model = KNNBasic(sim_options=sim_options)\n",
        "model.fit(recommendation_dataset.train_set)"
      ],
      "execution_count": 0,
      "outputs": [
        {
          "output_type": "stream",
          "text": [
            "Computing the cosine similarity matrix...\n",
            "Done computing similarity matrix.\n"
          ],
          "name": "stdout"
        },
        {
          "output_type": "execute_result",
          "data": {
            "text/plain": [
              "<surprise.prediction_algorithms.knns.KNNBasic at 0x7f79b77ae3c8>"
            ]
          },
          "metadata": {
            "tags": []
          },
          "execution_count": 27
        }
      ]
    },
    {
      "cell_type": "code",
      "metadata": {
        "id": "ow0l8Mv6aqAp",
        "colab_type": "code",
        "outputId": "654f1dec-0a75-4292-dd25-95fde77e3ddb",
        "colab": {
          "base_uri": "https://localhost:8080/",
          "height": 377
        }
      },
      "source": [
        "%%time\n",
        "print(\"\\n\\n\", get_evaluation(model, recommendation_dataset))"
      ],
      "execution_count": 0,
      "outputs": [
        {
          "output_type": "stream",
          "text": [
            "Computing the cosine similarity matrix...\n",
            "Done computing similarity matrix.\n",
            "Computing the cosine similarity matrix...\n",
            "Done computing similarity matrix.\n",
            "Computing the cosine similarity matrix...\n",
            "Done computing similarity matrix.\n",
            "Mean Absolute Error: 0.754729310903918\n",
            "Root Mean Square Error: 0.9786509473598148\n",
            "Hit Rate (HR): 0.0\n",
            "Cumulative Hit Rate (cHR): 0.0\n",
            "Average Reciprocal HitRate  (ARHR): 0.0\n",
            "Rating  HitRate  (rHR): {}\n",
            "Coverage: 1.0\n",
            "Diversity: 0.8882370462217049\n",
            "Novelty: 6126.978196721311\n",
            "\n",
            "\n",
            " {'MAE': 0.754729310903918, 'RMSE': 0.9786509473598148, 'HR': 0.0, 'cHR': 0.0, 'ARHR': 0.0, 'rHR': {}, 'Coverage': 1.0, 'Diversity': 0.8882370462217049, 'Novelty': 6126.978196721311}\n",
            "CPU times: user 4min 26s, sys: 3.15 s, total: 4min 29s\n",
            "Wall time: 4min 29s\n"
          ],
          "name": "stdout"
        }
      ]
    },
    {
      "cell_type": "markdown",
      "metadata": {
        "id": "l6lFi7yZa4IF",
        "colab_type": "text"
      },
      "source": [
        "## Movie Base"
      ]
    },
    {
      "cell_type": "code",
      "metadata": {
        "id": "7S1fgsguav8y",
        "colab_type": "code",
        "outputId": "d2af76e8-dec9-4cae-a872-1e2191d9de33",
        "colab": {
          "base_uri": "https://localhost:8080/",
          "height": 68
        }
      },
      "source": [
        "sim_options = {'name': 'cosine',\n",
        "               'user_based': False\n",
        "               }\n",
        "\n",
        "model_item = KNNBasic(sim_options=sim_options)\n",
        "model_item.fit(recommendation_dataset.train_set)"
      ],
      "execution_count": 0,
      "outputs": [
        {
          "output_type": "stream",
          "text": [
            "Computing the cosine similarity matrix...\n",
            "Done computing similarity matrix.\n"
          ],
          "name": "stdout"
        },
        {
          "output_type": "execute_result",
          "data": {
            "text/plain": [
              "<surprise.prediction_algorithms.knns.KNNBasic at 0x7f79b77ae518>"
            ]
          },
          "metadata": {
            "tags": []
          },
          "execution_count": 28
        }
      ]
    },
    {
      "cell_type": "code",
      "metadata": {
        "id": "A0oLrt7RdcEn",
        "colab_type": "code",
        "outputId": "9b14522b-aeca-44a7-d91c-1b8ad41d31aa",
        "colab": {
          "base_uri": "https://localhost:8080/",
          "height": 377
        }
      },
      "source": [
        "%%time\n",
        "print(\"\\n\\n\", get_evaluation(model_item, recommendation_dataset))"
      ],
      "execution_count": 0,
      "outputs": [
        {
          "output_type": "stream",
          "text": [
            "Computing the cosine similarity matrix...\n",
            "Done computing similarity matrix.\n",
            "Computing the cosine similarity matrix...\n",
            "Done computing similarity matrix.\n",
            "Computing the cosine similarity matrix...\n",
            "Done computing similarity matrix.\n",
            "Mean Absolute Error: 0.7610169078515616\n",
            "Root Mean Square Error: 0.9787736703737636\n",
            "Hit Rate (HR): 0.0\n",
            "Cumulative Hit Rate (cHR): 0.0\n",
            "Average Reciprocal HitRate  (ARHR): 0.0\n",
            "Rating  HitRate  (rHR): {}\n",
            "Coverage: 0.9885245901639345\n",
            "Diversity: 0.7204060469128939\n",
            "Novelty: 6933.130047106326\n",
            "\n",
            "\n",
            " {'MAE': 0.7610169078515616, 'RMSE': 0.9787736703737636, 'HR': 0.0, 'cHR': 0.0, 'ARHR': 0.0, 'rHR': {}, 'Coverage': 0.9885245901639345, 'Diversity': 0.7204060469128939, 'Novelty': 6933.130047106326}\n",
            "CPU times: user 21min 32s, sys: 3.4 s, total: 21min 35s\n",
            "Wall time: 21min 36s\n"
          ],
          "name": "stdout"
        }
      ]
    },
    {
      "cell_type": "markdown",
      "metadata": {
        "id": "KvPrMkNWydu5",
        "colab_type": "text"
      },
      "source": [
        "# SVD"
      ]
    },
    {
      "cell_type": "code",
      "metadata": {
        "id": "gWBbyZMAyc36",
        "colab_type": "code",
        "outputId": "48907f70-96bb-4f9e-c104-12d9c76d4ebd",
        "colab": {
          "base_uri": "https://localhost:8080/",
          "height": 34
        }
      },
      "source": [
        "from surprise import SVD\n",
        "\n",
        "svd = SVD(random_state=10)\n",
        "svd.fit(recommendation_dataset.train_set)\n",
        "\n"
      ],
      "execution_count": 0,
      "outputs": [
        {
          "output_type": "execute_result",
          "data": {
            "text/plain": [
              "<surprise.prediction_algorithms.matrix_factorization.SVD at 0x7f7d51d75278>"
            ]
          },
          "metadata": {
            "tags": []
          },
          "execution_count": 41
        }
      ]
    },
    {
      "cell_type": "code",
      "metadata": {
        "id": "7IxE7gpZo1Z-",
        "colab_type": "code",
        "outputId": "8eb4df2d-4932-4b6c-aed9-4b2a737f0a06",
        "colab": {
          "base_uri": "https://localhost:8080/",
          "height": 309
        }
      },
      "source": [
        "%%time\n",
        "print(\"\\n\\n\", get_evaluation(svd, recommendation_dataset))"
      ],
      "execution_count": 0,
      "outputs": [
        {
          "output_type": "stream",
          "text": [
            "Computing the cosine similarity matrix...\n",
            "Done computing similarity matrix.\n",
            "Mean Absolute Error: 0.49840804714417075\n",
            "Root Mean Square Error: 0.6436712599229663\n",
            "Hit Rate (HR): 0.036065573770491806\n",
            "Cumulative Hit Rate (cHR): 0.036065573770491806\n",
            "Average Reciprocal HitRate  (ARHR): 0.013333333333333332\n",
            "Rating  HitRate  (rHR): {2.5: 0.06666666666666667, 3.0: 0.008695652173913044, 4.0: 0.044444444444444446, 4.5: 0.09433962264150944, 5.0: 0.056910569105691054}\n",
            "Coverage: 0.9245901639344263\n",
            "Diversity: 0.03138572161157538\n",
            "Novelty: 504.3873857062885\n",
            "\n",
            "\n",
            " {'MAE': 0.49840804714417075, 'RMSE': 0.6436712599229663, 'HR': 0.036065573770491806, 'cHR': 0.036065573770491806, 'ARHR': 0.013333333333333332, 'rHR': {2.5: 0.06666666666666667, 3.0: 0.008695652173913044, 4.0: 0.044444444444444446, 4.5: 0.09433962264150944, 5.0: 0.056910569105691054}, 'Coverage': 0.9245901639344263, 'Diversity': 0.03138572161157538, 'Novelty': 504.3873857062885}\n",
            "CPU times: user 2min 17s, sys: 2.88 s, total: 2min 20s\n",
            "Wall time: 2min 20s\n"
          ],
          "name": "stdout"
        }
      ]
    },
    {
      "cell_type": "code",
      "metadata": {
        "id": "PG5ors32W-AZ",
        "colab_type": "code",
        "colab": {}
      },
      "source": [
        "from surprise import SVDpp\n",
        "\n",
        "svdpp = SVDpp(random_state=10)\n",
        "svdpp.fit(recommendation_dataset.train_set)"
      ],
      "execution_count": 0,
      "outputs": []
    },
    {
      "cell_type": "code",
      "metadata": {
        "id": "w1qE6eVWxjg8",
        "colab_type": "code",
        "colab": {}
      },
      "source": [
        "%%time\n",
        "print(\"\\n\\n\", get_evaluation(svdpp, recommendation_dataset))"
      ],
      "execution_count": 0,
      "outputs": []
    }
  ]
}